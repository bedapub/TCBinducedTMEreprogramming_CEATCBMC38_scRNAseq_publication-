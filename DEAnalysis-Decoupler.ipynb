{
 "cells": [
  {
   "cell_type": "markdown",
   "metadata": {},
   "source": [
    "# Differential expression analysis using decoupler\n",
    "\n",
    "This workbook performs differential expression analysis at pseudobulk level using decoupler. "
   ]
  },
  {
   "cell_type": "code",
   "execution_count": null,
   "metadata": {},
   "outputs": [],
   "source": [
    "#import besca as bc\n",
    "import numpy as np\n",
    "import pandas as pd\n",
    "import scanpy as sc\n",
    "import matplotlib.pyplot as plt\n",
    "from scipy import sparse, io\n",
    "import os\n",
    "import time\n",
    "import logging\n",
    "import pkg_resources\n",
    "import seaborn as sns\n",
    "import itertools\n",
    "import sys\n",
    "\n",
    "# Import DESeq2\n",
    "from pydeseq2.dds import DeseqDataSet\n",
    "from pydeseq2.ds import DeseqStats\n",
    "#from pydeseq2.default_inference import DefaultInference\n",
    "\n",
    "sc.logging.print_versions()\n",
    "\n",
    "# for standard processing, set verbosity to minimum\n",
    "sc.settings.verbosity = 0  # verbosity: errors (0), warnings (1), info (2), hints (3)\n",
    "sc.settings.set_figure_params(dpi=80)\n",
    "version = '2.4'\n",
    "start0 = time.time()"
   ]
  },
  {
   "cell_type": "code",
   "execution_count": null,
   "metadata": {},
   "outputs": [],
   "source": [
    "#define standardized filepaths based on above input\n",
    "root_path = os.getcwd()\n",
    "#bescapath_full = os.path.dirname(bc.__file__)\n",
    "#bescapath = os.path.split(bescapath_full)[0]\n",
    "\n",
    "analysis_name = 'sw_besca24'\n",
    "species='mouse' ## or mouse for now\n",
    "\n",
    "results_folder = os.path.join(root_path, 'analyzed/',analysis_name)\n",
    "results_file = os.path.join(results_folder, analysis_name + '.annotated.h5ad')\n",
    "results_file_raw = os.path.join(results_folder, analysis_name + '.raw.h5ad')\n",
    "results_folder_out = results_folder+ '/DE/sc_decoupler/'\n",
    "#results_folder_pseudo = results_folder+ '/DE/Pseudobulk/'\n",
    "#results_folder_pseudo = results_folder+ '/DE/PseudobulkRaw/'\n",
    "\n",
    "clusters='leiden'\n",
    "split_condition='readout_id' #'experiment' is generally a good default ### change to sampleID"
   ]
  },
  {
   "cell_type": "code",
   "execution_count": null,
   "metadata": {},
   "outputs": [],
   "source": [
    "import decoupler as dc\n",
    "# Import DESeq2\n",
    "from pydeseq2.dds import DeseqDataSet\n",
    "from pydeseq2.ds import DeseqStats"
   ]
  },
  {
   "cell_type": "code",
   "execution_count": null,
   "metadata": {},
   "outputs": [],
   "source": [
    "adata = sc.read_h5ad(results_file)\n",
    "adataraw=sc.read_h5ad(results_file_raw)\n"
   ]
  },
  {
   "cell_type": "code",
   "execution_count": null,
   "metadata": {},
   "outputs": [],
   "source": [
    "adata.uns['log1p'] = {'base' : None} # Fix for bug related to scanpy version scverse/scanpy#2239"
   ]
  },
  {
   "cell_type": "code",
   "execution_count": null,
   "metadata": {},
   "outputs": [],
   "source": [
    "# Store raw counts in layers\n",
    "adataraw.X = np.round(adataraw.X)\n",
    "adataraw.layers['counts'] = adataraw.X\n"
   ]
  },
  {
   "cell_type": "code",
   "execution_count": null,
   "metadata": {},
   "outputs": [],
   "source": [
    "#adataraw.layers['normalized']=adata.raw.X.copy()"
   ]
  },
  {
   "cell_type": "code",
   "execution_count": null,
   "metadata": {},
   "outputs": [],
   "source": [
    "adataraw=adataraw[adata.obs.index].copy()"
   ]
  },
  {
   "cell_type": "code",
   "execution_count": null,
   "metadata": {},
   "outputs": [],
   "source": [
    "#adataraw=adataraw[adata.obs.index,adata.var.index].copy()"
   ]
  },
  {
   "cell_type": "code",
   "execution_count": null,
   "metadata": {},
   "outputs": [],
   "source": [
    "#adataraw.X=adata.raw.X.copy()"
   ]
  },
  {
   "cell_type": "code",
   "execution_count": null,
   "metadata": {},
   "outputs": [],
   "source": [
    "#adataraw.var=adata.var.copy()\n",
    "adataraw.obs=adata.obs.copy()"
   ]
  },
  {
   "cell_type": "code",
   "execution_count": null,
   "metadata": {},
   "outputs": [],
   "source": [
    "adataraw.obsm=adata.obsm.copy()\n",
    "adataraw.obsp=adata.obsp.copy()"
   ]
  },
  {
   "cell_type": "code",
   "execution_count": null,
   "metadata": {},
   "outputs": [],
   "source": [
    "sc.pl.umap(adataraw,color='celltype1')"
   ]
  },
  {
   "cell_type": "code",
   "execution_count": null,
   "metadata": {},
   "outputs": [],
   "source": [
    "#adataraw=adataraw[adataraw.obs['celltype1']!='artifact'].copy()"
   ]
  },
  {
   "cell_type": "code",
   "execution_count": null,
   "metadata": {},
   "outputs": [],
   "source": [
    "sc.pl.umap(adataraw,color='celltype2')"
   ]
  },
  {
   "cell_type": "code",
   "execution_count": null,
   "metadata": {},
   "outputs": [],
   "source": [
    "sc.pl.umap(adataraw,color='celltype0')"
   ]
  },
  {
   "cell_type": "code",
   "execution_count": null,
   "metadata": {},
   "outputs": [],
   "source": [
    "#sc.pl.umap(cdata,color='celltype2')"
   ]
  },
  {
   "cell_type": "code",
   "execution_count": null,
   "metadata": {},
   "outputs": [],
   "source": [
    "sc.settings.set_figure_params()"
   ]
  },
  {
   "cell_type": "markdown",
   "metadata": {},
   "source": [
    "#### Select some genes of interest to follow"
   ]
  },
  {
   "cell_type": "code",
   "execution_count": null,
   "metadata": {},
   "outputs": [],
   "source": [
    "### these gois are from the pseudobulk DE analysis\n",
    "goiinf=['Ifng','Tnf','Il12a','Il12b','Cxcl9','Cxcl10','Ccl2','Ccl3','Ccl4','Il6','Il1b',\n",
    "       'Nos1','Nos2','Nos3','Cd86','Cd14','Il1r1','Csf2','Slc2a1','Arg1','Folr2','Spp1'] # E.g: ['PTPN2', 'PTPN22']\n",
    "goirep=['Cd274','Pdcd1lg2','Ido1','Arg1','Tgfb1','Il1b','Il4','Il6','Il10','Il13','Ccl17',\n",
    "         'Ccl22','Vegfa','Pdgfa','Egf','Hgf','Csf1',\n",
    "       'Inhba','Gpnmb','Mmp2','Mmp9','Mmp13','Mmp14',\n",
    "          'Ctsb','Ctsd','Ctsk','Ctss','Cd14','Fcgr3',\n",
    "       'Csf1r','Mrc1','Cd36','Ccr2']\n"
   ]
  },
  {
   "cell_type": "code",
   "execution_count": null,
   "metadata": {},
   "outputs": [],
   "source": [
    "### these gois are from the pseudobulk DE analysis\n",
    "goiorder=['Ifng','Tnf','Il12a','Il12b','Cxcl9','Cxcl10','Ccl2','Ccl3','Ccl4','Il6','Il1b',\n",
    "       'Nos1','Nos2','Nos3','Cd86','Cd14','Il1r1','Csf2','Slc2a1','Arg1','Folr2','Spp1', # E.g: ['PTPN2', 'PTPN22']\n",
    "'Cd274','Pdcd1lg2','Ido1','Arg1','Tgfb1','Il1b','Il4','Il6','Il10','Il13','Ccl17',\n",
    "         'Ccl22','Vegfa','Pdgfa','Egf','Hgf','Csf1',\n",
    "       'Inhba','Gpnmb','Mmp2','Mmp9','Mmp13','Mmp14',\n",
    "          'Ctsb','Ctsd','Ctsk','Ctss','Cd14','Fcgr3',\n",
    "       'Csf1r','Mrc1','Cd36','Ccr2']\n",
    "\n",
    "goi=goiorder\n",
    "#goi=[x.upper() for x in goi]\n",
    "sc.pl.dotplot(adata,var_names=goi,groupby='celltype4',dot_max=0.8,vmax=2)\n"
   ]
  },
  {
   "cell_type": "code",
   "execution_count": null,
   "metadata": {},
   "outputs": [],
   "source": [
    "sc.pl.dotplot(adata,var_names=goi,groupby='treatment_id', \n",
    "              dot_max=0.4, vmax=1.5)\n"
   ]
  },
  {
   "cell_type": "code",
   "execution_count": null,
   "metadata": {},
   "outputs": [],
   "source": [
    "#set(adata.obs['MYCOND'])"
   ]
  },
  {
   "cell_type": "markdown",
   "metadata": {},
   "source": [
    "#### Create conditions used for pairwise comparisons"
   ]
  },
  {
   "cell_type": "code",
   "execution_count": null,
   "metadata": {},
   "outputs": [],
   "source": [
    "\n",
    "#ax=ups.loc[list(set(goiorder).intersection(set(ups.index))),:].sort_values(by='log2FoldChange')['log2FoldChange'].plot.bar()\n",
    "#ax.set_ylabel(\"log2FoldChange\")\n",
    "sc.settings.set_figure_params()\n",
    "\n",
    "\n",
    "adataraw.obs['MYCOND']=adataraw.obs.CONDITION.astype(str)\n",
    "adata.obs['MYCOND']=adata.obs.CONDITION.astype(str)\n",
    "\n",
    "adataraw.obs['MYCOND'].replace('C_t0', 'T0', inplace=True)\n",
    "adataraw.obs['MYCOND'].replace('T_1', 'T1', inplace=True)\n",
    "adataraw.obs['MYCOND'].replace('T_2', 'T2', inplace=True)\n",
    "adataraw.obs['MYCOND'].replace('T_t3', 'T3', inplace=True)\n",
    "adataraw.obs['MYCOND'].replace('T_t4', 'T4', inplace=True)\n",
    "adataraw.obs['MYCOND'].replace('T_t5', 'T5', inplace=True)\n",
    "\n",
    "adata.obs['MYCOND'].replace('C_t0', 'T0', inplace=True)\n",
    "adata.obs['MYCOND'].replace('T_1', 'T1', inplace=True)\n",
    "adata.obs['MYCOND'].replace('T_2', 'T2', inplace=True)\n",
    "adata.obs['MYCOND'].replace('T_t3', 'T3', inplace=True)\n",
    "adata.obs['MYCOND'].replace('T_t4', 'T4', inplace=True)\n",
    "adata.obs['MYCOND'].replace('T_t5', 'T5', inplace=True)\n",
    "\n",
    "\n",
    "sc.pl.umap(adataraw, color='MYCOND')\n",
    "\n",
    "sc.pl.umap(adata, color='MYCOND')\n"
   ]
  },
  {
   "cell_type": "code",
   "execution_count": null,
   "metadata": {},
   "outputs": [],
   "source": [
    "#adata.obs['MYCOND']=adata.obs.sex.astype(str)+adata.obs.CONDITION.astype(str)\n"
   ]
  },
  {
   "cell_type": "code",
   "execution_count": null,
   "metadata": {},
   "outputs": [],
   "source": [
    "sc.settings.set_figure_params()"
   ]
  },
  {
   "cell_type": "markdown",
   "metadata": {},
   "source": [
    "#### Make DE per subset of cell"
   ]
  },
  {
   "cell_type": "code",
   "execution_count": null,
   "metadata": {},
   "outputs": [],
   "source": [
    "sc.pl.umap(adata, color='CONDITION')"
   ]
  },
  {
   "cell_type": "code",
   "execution_count": null,
   "metadata": {},
   "outputs": [],
   "source": [
    "mysubset=['macrophage']\n",
    "\n",
    "mylevel=\"celltype2\"\n",
    "cdata=adataraw[adataraw.obs[mylevel].isin(mysubset)].copy()\n",
    "cdatak=adata[adata.obs[mylevel].isin(mysubset)].copy()\n",
    "\n",
    "\n",
    "mysubset='Macrophage'\n",
    "\n",
    "\n",
    "condition='MYCOND'\n",
    "\n",
    "results_out_cell=results_folder_out+'/'+mysubset.replace(\" \", \"_\")+'/'\n",
    "if not os.path.exists(results_out_cell): os.mkdir(results_out_cell)\n",
    "if not os.path.exists(results_out_cell+'enrichr/'): os.mkdir(results_out_cell+'enrichr/')\n",
    "\n",
    "    \n",
    "\n",
    "split_condition='readout_id'"
   ]
  },
  {
   "cell_type": "code",
   "execution_count": null,
   "metadata": {},
   "outputs": [],
   "source": [
    "\n",
    "### Remove 2 samples from analysis - \n",
    "cdata=cdata.copy() #[~cdata.obs.readout_id.isin(['8050P21_352_rep2','8050P21_201'])].copy()\n",
    "### Remove 2 samples from analysis - \n",
    "cdatak=cdatak.copy() #[~cdatak.obs.readout_id.isin(['8050P21_352_rep2','8050P21_201'])].copy()\n",
    "\n",
    "#### Plot genes of interest\n",
    "\n",
    "mypval=0.05\n",
    "myfc=np.log2(1.5)\n",
    "\n",
    "condition\n",
    "\n",
    "conds=list(cdata.obs[condition].cat.categories)\n",
    "\n",
    "conds\n",
    "\n",
    "### Could also check pairwise comparisons if needed\n",
    "AllComparisons=list(itertools.combinations(conds,2))\n",
    "\n",
    "AllComparisons\n"
   ]
  },
  {
   "cell_type": "code",
   "execution_count": null,
   "metadata": {},
   "outputs": [],
   "source": [
    "\n",
    "\n",
    "mypairs=[AllComparisons[0],AllComparisons[1],AllComparisons[2], AllComparisons[3], AllComparisons[4]\n",
    "        , AllComparisons[5], AllComparisons[9], AllComparisons[12], AllComparisons[14]]\n",
    "\n",
    "mypairs"
   ]
  },
  {
   "cell_type": "code",
   "execution_count": null,
   "metadata": {},
   "outputs": [],
   "source": [
    "# Get pseudo-bulk profile\n",
    "pdata = dc.get_pseudobulk(cdata,\n",
    "    sample_col=split_condition,\n",
    "    groups_col='MYCOND',\n",
    "    layer='counts',\n",
    "    mode='sum',\n",
    "    min_cells=10,\n",
    "    min_counts=50\n",
    ")\n",
    "pdata"
   ]
  },
  {
   "cell_type": "code",
   "execution_count": null,
   "metadata": {},
   "outputs": [],
   "source": [
    "dc.plot_psbulk_samples(pdata, groupby=['compound_name', 'CONDITION'], figsize=(11, 3))"
   ]
  },
  {
   "cell_type": "code",
   "execution_count": null,
   "metadata": {},
   "outputs": [],
   "source": [
    "#### Normalise data \n",
    "pp_data=pdata.copy()\n",
    "sc.pp.normalize_total(pp_data, target_sum=1e6)\n",
    "sc.pp.log1p(pp_data)\n",
    "sc.pp.scale(pp_data, max_value=10)\n",
    "sc.tl.pca(pp_data, n_comps=9)"
   ]
  },
  {
   "cell_type": "code",
   "execution_count": null,
   "metadata": {},
   "outputs": [],
   "source": [
    "sc.pl.pca(pp_data, color=['compound_name', 'CONDITION','MYCOND'], ncols=1, show=True, size=300)"
   ]
  },
  {
   "cell_type": "code",
   "execution_count": null,
   "metadata": {},
   "outputs": [],
   "source": [
    "dc.get_metadata_associations(\n",
    "    pp_data,\n",
    "    obs_keys = ['compound_name', 'CONDITION', 'treatment_id', 'psbulk_n_cells', 'psbulk_counts'], #metadata columns to associate to PCs\n",
    "    obsm_key='X_pca',  # where the PCs are stored\n",
    "    uns_key='pca_anova',  # where the results are stored\n",
    "    inplace=True\n",
    ")"
   ]
  },
  {
   "cell_type": "code",
   "execution_count": null,
   "metadata": {},
   "outputs": [],
   "source": [
    "plt.figure(figsize=(7,10))\n",
    "ax, legend_axes = dc.plot_associations(\n",
    "    pp_data,\n",
    "    uns_key='pca_anova',  # summary statistics from the anova tests\n",
    "    obsm_key='X_pca',  # where the PCs are stored\n",
    "    stat_col='p_adj',  # which summary statistic to plot\n",
    "    obs_annotation_cols = ['compound_name', 'CONDITION','treatment_id'], # which sample annotations to plot\n",
    "    titles=['Adjusted p-values from ANOVA', 'Principle component scores']\n",
    ")\n",
    "plt.show()\n"
   ]
  },
  {
   "cell_type": "code",
   "execution_count": null,
   "metadata": {},
   "outputs": [],
   "source": [
    "mypairs"
   ]
  },
  {
   "cell_type": "code",
   "execution_count": null,
   "metadata": {},
   "outputs": [],
   "source": [
    "# Obtain genes that pass the thresholds\n",
    "genes = dc.filter_by_expr(pdata, group='CONDITION', min_count=10, min_total_count=15)\n",
    "\n",
    "# Filter by these genes\n",
    "pdata = pdata[:, genes].copy()\n",
    "pdata"
   ]
  },
  {
   "cell_type": "code",
   "execution_count": null,
   "metadata": {},
   "outputs": [],
   "source": [
    "pdata.obs['MYCOND']"
   ]
  },
  {
   "cell_type": "code",
   "execution_count": null,
   "metadata": {},
   "outputs": [],
   "source": [
    "pdatalist={}\n",
    "ddslist={}\n",
    "stat_reslist={}\n",
    "results_dflist={}\n",
    "for i in range(len(mypairs)):\n",
    "    pdatalist[mypairs[i][0]+\"_vs_\"+mypairs[i][1]]=pdata[pdata.obs['MYCOND'].isin([mypairs[i][0], mypairs[i][1]])].copy()\n",
    "    dds = DeseqDataSet(\n",
    "            adata=pdatalist[mypairs[i][0]+\"_vs_\"+mypairs[i][1]],\n",
    "            design_factors='MYCOND',\n",
    "            ref_level=['MYCOND',mypairs[i][1]],\n",
    "            refit_cooks=True)\n",
    "\n",
    "    dds.deseq2()\n",
    "    stat_res = DeseqStats(dds, contrast=['MYCOND',mypairs[i][0],mypairs[i][1]], n_cpus=8)\n",
    "    stat_res.summary()\n",
    "    stat_res.lfc_shrink(coeff='MYCOND_'+mypairs[i][0]+\"_vs_\"+mypairs[i][1])    \n",
    "    results_dflist[mypairs[i][0]+\"_vs_\"+mypairs[i][1]] = stat_res.results_df\n",
    "    ddslist[mypairs[i][0]+\"_vs_\"+mypairs[i][1]]=dds\n",
    "    stat_reslist[mypairs[i][0]+\"_vs_\"+mypairs[i][1]]=stat_res\n",
    "        "
   ]
  },
  {
   "cell_type": "code",
   "execution_count": null,
   "metadata": {},
   "outputs": [],
   "source": [
    "#### Read the AAV processing factors list ####\n",
    "#aavproc=pd.read_csv('Factors_AAV_processing_complete.csv', header=None)"
   ]
  },
  {
   "cell_type": "code",
   "execution_count": null,
   "metadata": {},
   "outputs": [],
   "source": [
    "#goi=['Cxcl13','Cxcl10','Cxcl9','Ltbr','Fap','Cd19','Ms4a1','Cd8a','Gzmb','Ifng','Glycam1','Madcam1',\n",
    "#     'Meox2','Cd274','Pdcd1']"
   ]
  },
  {
   "cell_type": "code",
   "execution_count": null,
   "metadata": {},
   "outputs": [],
   "source": [
    "aavproc=goi.copy() #list(aavproc[0])"
   ]
  },
  {
   "cell_type": "markdown",
   "metadata": {},
   "source": [
    "#### Overview of top DE genes per condition ####"
   ]
  },
  {
   "cell_type": "code",
   "execution_count": null,
   "metadata": {},
   "outputs": [],
   "source": [
    "denrs={}\n",
    "upslist={}\n",
    "downslist={}\n",
    "mymeans={}\n",
    "for mycomp in results_dflist.keys():\n",
    "    print(mycomp)\n",
    "    dc.plot_volcano_df(results_dflist[mycomp], x='log2FoldChange', y='padj', top=20,  save='Volcano-DE-'+mysubset+\"_\"+mycomp+'.pdf')\n",
    "    results_dflist[mycomp].to_csv(results_folder_out + mysubset+\"_\"+mycomp+'_Results.csv', index=True, index_label='GeneName')\n",
    "\n",
    "    \n",
    "    upslist[mycomp]=results_dflist[mycomp].loc[(results_dflist[mycomp].padj<0.2)&(results_dflist[mycomp].log2FoldChange>=np.log2(1.5)),:]\n",
    "    downslist[mycomp]=results_dflist[mycomp].loc[(results_dflist[mycomp].padj<0.2)&(results_dflist[mycomp].log2FoldChange<=-np.log2(1.5)),:]\n",
    "    denrs[mycomp]=[len(upslist[mycomp].index),len(downslist[mycomp].index)]\n",
    "    \n",
    "    mymeans[mycomp]=results_dflist[mycomp]['baseMean']\n",
    "    \n",
    "\n"
   ]
  },
  {
   "cell_type": "code",
   "execution_count": null,
   "metadata": {},
   "outputs": [],
   "source": [
    "mymeans=pd.DataFrame(mymeans)"
   ]
  },
  {
   "cell_type": "code",
   "execution_count": null,
   "metadata": {},
   "outputs": [],
   "source": [
    "denrs[mycomp]=pd.DataFrame(denrs)\n",
    "denrs[mycomp].index=['UP','DN']\n",
    "plt.rcParams[\"figure.figsize\"] = (4,4)\n",
    "ax=denrs[mycomp].transpose().plot.bar()\n",
    "ax.set_ylabel(\"Nr. pairwise DE genes\")\n"
   ]
  },
  {
   "cell_type": "code",
   "execution_count": null,
   "metadata": {},
   "outputs": [],
   "source": [
    "aavproc_up=set('')\n",
    "aavproc_dn=set('')\n",
    "for key in upslist.keys():\n",
    "    aavproc_up=aavproc_up.union(set(upslist[key].index).intersection(set(aavproc)))\n",
    "    aavproc_dn=aavproc_dn.union(set(downslist[key].index).intersection(set(aavproc)))"
   ]
  },
  {
   "cell_type": "code",
   "execution_count": null,
   "metadata": {},
   "outputs": [],
   "source": [
    "upslist"
   ]
  },
  {
   "cell_type": "code",
   "execution_count": null,
   "metadata": {},
   "outputs": [],
   "source": [
    "set(upslist[key].index)"
   ]
  },
  {
   "cell_type": "code",
   "execution_count": null,
   "metadata": {},
   "outputs": [],
   "source": [
    "results_dflist.keys()"
   ]
  },
  {
   "cell_type": "code",
   "execution_count": null,
   "metadata": {},
   "outputs": [],
   "source": [
    "UP1=set(results_dflist[key].loc[results_dflist['T0_vs_T1']['log2FoldChange'].abs()>=2,:].index)"
   ]
  },
  {
   "cell_type": "code",
   "execution_count": null,
   "metadata": {},
   "outputs": [],
   "source": [
    "UP1"
   ]
  },
  {
   "cell_type": "code",
   "execution_count": null,
   "metadata": {},
   "outputs": [],
   "source": [
    "UP2=set(results_dflist[key].loc[results_dflist['T0_vs_T2']['log2FoldChange'].abs()>=2,:].index)\n",
    "UP22=set(results_dflist[key].loc[results_dflist['T1_vs_T2']['log2FoldChange'].abs()>=2,:].index)"
   ]
  },
  {
   "cell_type": "code",
   "execution_count": null,
   "metadata": {},
   "outputs": [],
   "source": [
    "UP2"
   ]
  },
  {
   "cell_type": "code",
   "execution_count": null,
   "metadata": {},
   "outputs": [],
   "source": [
    "UP2both=UP2.intersection(UP22)"
   ]
  },
  {
   "cell_type": "code",
   "execution_count": null,
   "metadata": {},
   "outputs": [],
   "source": [
    "UP2both"
   ]
  },
  {
   "cell_type": "code",
   "execution_count": null,
   "metadata": {},
   "outputs": [],
   "source": [
    "UP3=set(results_dflist[key].loc[results_dflist['T0_vs_T3']['log2FoldChange'].abs()>=2,:].index)\n",
    "UP33=set(results_dflist[key].loc[results_dflist['T2_vs_T3']['log2FoldChange'].abs()>=2,:].index)"
   ]
  },
  {
   "cell_type": "code",
   "execution_count": null,
   "metadata": {},
   "outputs": [],
   "source": [
    "UP4=set(results_dflist[key].loc[results_dflist['T0_vs_T4']['log2FoldChange'].abs()>=2,:].index)\n",
    "UP44=set(results_dflist[key].loc[results_dflist['T3_vs_T4']['log2FoldChange'].abs()>=2,:].index)"
   ]
  },
  {
   "cell_type": "code",
   "execution_count": null,
   "metadata": {},
   "outputs": [],
   "source": [
    "UP5=set(results_dflist[key].loc[results_dflist['T0_vs_T5']['log2FoldChange'].abs()>=2,:].index)\n",
    "UP55=set(results_dflist[key].loc[results_dflist['T4_vs_T5']['log2FoldChange'].abs()>=2,:].index)"
   ]
  },
  {
   "cell_type": "code",
   "execution_count": null,
   "metadata": {},
   "outputs": [],
   "source": [
    "UP5both=UP5.intersection(UP55)"
   ]
  },
  {
   "cell_type": "code",
   "execution_count": null,
   "metadata": {},
   "outputs": [],
   "source": [
    "UP5"
   ]
  },
  {
   "cell_type": "code",
   "execution_count": null,
   "metadata": {},
   "outputs": [],
   "source": [
    "UP5both"
   ]
  },
  {
   "cell_type": "code",
   "execution_count": null,
   "metadata": {},
   "outputs": [],
   "source": [
    "UP3"
   ]
  },
  {
   "cell_type": "code",
   "execution_count": null,
   "metadata": {
    "scrolled": true
   },
   "outputs": [],
   "source": [
    "UP4"
   ]
  },
  {
   "cell_type": "code",
   "execution_count": null,
   "metadata": {},
   "outputs": [],
   "source": [
    "UP3both=UP33.intersection(UP3)\n",
    "UP4both=UP44.intersection(UP4)"
   ]
  },
  {
   "cell_type": "code",
   "execution_count": null,
   "metadata": {},
   "outputs": [],
   "source": [
    "#### Select the genes with an average expression above a certain cutoff ####"
   ]
  },
  {
   "cell_type": "code",
   "execution_count": null,
   "metadata": {},
   "outputs": [],
   "source": [
    "allde=list(UP1.union(UP2).union(UP3).union(UP4).union(UP5).union(UP22).union(UP33).union(UP44).union(UP55))\n",
    "strde=list(UP2both.union(UP5).union(UP3both).union(UP4both))"
   ]
  },
  {
   "cell_type": "code",
   "execution_count": null,
   "metadata": {},
   "outputs": [],
   "source": [
    "latede=list(list(UP3.union(UP5).union(UP4).union(UP44).union(UP55)))"
   ]
  },
  {
   "cell_type": "code",
   "execution_count": null,
   "metadata": {},
   "outputs": [],
   "source": [
    "alldehigh=set(mymeans.loc[mymeans.mean(axis=1)>=100].index).intersection(allde)"
   ]
  },
  {
   "cell_type": "code",
   "execution_count": null,
   "metadata": {},
   "outputs": [],
   "source": [
    "len(alldehigh)"
   ]
  },
  {
   "cell_type": "code",
   "execution_count": null,
   "metadata": {},
   "outputs": [],
   "source": [
    "len(allde)"
   ]
  },
  {
   "cell_type": "code",
   "execution_count": null,
   "metadata": {},
   "outputs": [],
   "source": [
    "len(strde)"
   ]
  },
  {
   "cell_type": "code",
   "execution_count": null,
   "metadata": {},
   "outputs": [],
   "source": [
    "strde"
   ]
  },
  {
   "cell_type": "code",
   "execution_count": null,
   "metadata": {},
   "outputs": [],
   "source": [
    "goiide=pd.DataFrame()\n",
    "datade=pd.DataFrame()\n",
    "datadeall=pd.DataFrame()\n",
    "datadeh=pd.DataFrame()\n",
    "for key in upslist.keys():\n",
    "    tmp=results_dflist[key].loc[list(aavproc_up.union(aavproc_dn)),['log2FoldChange','padj']]\n",
    "    tmp['cond']=key\n",
    "    goiide=pd.concat([goiide,tmp], axis=0, join='outer', ignore_index=False,)\n",
    "    \n",
    "    tmp=results_dflist[key].loc[list(allde),['log2FoldChange','padj']]\n",
    "    tmp['cond']=key\n",
    "    datade=pd.concat([datade,tmp], axis=0, join='outer', ignore_index=False,)\n",
    "    \n",
    "    tmp=results_dflist[key].loc[:,['log2FoldChange','padj']]\n",
    "    tmp['cond']=key\n",
    "    datadeall=pd.concat([datadeall,tmp], axis=0, join='outer', ignore_index=False,)\n",
    "\n",
    "    tmp=results_dflist[key].loc[list(alldehigh),['log2FoldChange','padj']]\n",
    "    tmp['cond']=key\n",
    "    datadeh=pd.concat([datadeh,tmp], axis=0, join='outer', ignore_index=False,)"
   ]
  },
  {
   "cell_type": "code",
   "execution_count": null,
   "metadata": {},
   "outputs": [],
   "source": [
    "aavproc_up"
   ]
  },
  {
   "cell_type": "code",
   "execution_count": null,
   "metadata": {},
   "outputs": [],
   "source": [
    "goiide.to_csv(results_folder_out + \"Goi_processing_complete_\"+mysubset+\"_all_SigDE.csv\", index=True, index_label='GeneName')\n",
    "datade.to_csv(results_folder_out + \"TopUPs_\"+mysubset+\"_all_SigDE.csv\", index=True, index_label='GeneName')\n"
   ]
  },
  {
   "cell_type": "code",
   "execution_count": null,
   "metadata": {
    "scrolled": true
   },
   "outputs": [],
   "source": [
    "goiide"
   ]
  },
  {
   "cell_type": "code",
   "execution_count": null,
   "metadata": {},
   "outputs": [],
   "source": [
    "#goiide.loc['Glycam1',:]\n",
    "len(goiide)"
   ]
  },
  {
   "cell_type": "code",
   "execution_count": null,
   "metadata": {},
   "outputs": [],
   "source": [
    "dplot3=(-1)*goiide.pivot(columns=\"cond\", values=\"log2FoldChange\").fillna(0).loc[:,['T0_vs_T1','T0_vs_T2','T0_vs_T3',\n",
    "                                                                       'T0_vs_T4','T0_vs_T5']]\n",
    "dplot3.columns=['T1_T0','T2_T0','T3_T0','T4_T0','T5_T0']\n",
    "\n",
    "dplot3v=(-1)*goiide.pivot(columns=\"cond\", values=\"log2FoldChange\").fillna(0).loc[:,['T0_vs_T1','T1_vs_T2','T2_vs_T3',\n",
    "                                                                       'T3_vs_T4','T4_vs_T5']]\n",
    "dplot3v.columns=['T1_T0','T2_T1','T3_T2','T4_T3','T5_T4']\n",
    "\n"
   ]
  },
  {
   "cell_type": "code",
   "execution_count": null,
   "metadata": {},
   "outputs": [],
   "source": [
    "if len(goiide)>4:\n",
    "    sns.set(font_scale=0.8) \n",
    "    sns.clustermap(dplot3, cmap=\"vlag\", figsize=(3, 7),center=0,col_cluster=False)"
   ]
  },
  {
   "cell_type": "code",
   "execution_count": null,
   "metadata": {},
   "outputs": [],
   "source": [
    "if len(goiide)>4:\n",
    "    sns.set(font_scale=0.8) \n",
    "    sns.clustermap(dplot3v, cmap=\"vlag\", figsize=(3, 7),center=0,col_cluster=False)"
   ]
  },
  {
   "cell_type": "code",
   "execution_count": null,
   "metadata": {},
   "outputs": [],
   "source": [
    "datade.pivot(columns=\"cond\", values=\"log2FoldChange\").fillna(0)"
   ]
  },
  {
   "cell_type": "code",
   "execution_count": null,
   "metadata": {},
   "outputs": [],
   "source": [
    "datadeh"
   ]
  },
  {
   "cell_type": "code",
   "execution_count": null,
   "metadata": {},
   "outputs": [],
   "source": [
    "dplot2=(-1)*datadeh.pivot(columns=\"cond\", values=\"log2FoldChange\").fillna(0).loc[:,['T0_vs_T1','T1_vs_T2','T2_vs_T3',\n",
    "                                                                       'T3_vs_T4','T4_vs_T5']]\n",
    "dplot2.columns=['T1_T0','T2_T1','T3_T2','T4_T3','T5_T4']\n",
    "sns.set(font_scale=0.7) \n",
    "sns.clustermap(dplot2,figsize=(3, 11),col_cluster=False, \n",
    "               cmap=\"vlag\", center=0)"
   ]
  },
  {
   "cell_type": "code",
   "execution_count": null,
   "metadata": {},
   "outputs": [],
   "source": [
    "dplot2v=(-1)*datadeh.pivot(columns=\"cond\", values=\"log2FoldChange\").fillna(0).loc[:,['T0_vs_T1','T0_vs_T2','T0_vs_T3',\n",
    "                                                                       'T0_vs_T4','T0_vs_T5']]\n",
    "dplot2v.columns=['T1_T0','T2_T0','T3_T0','T4_T0','T5_T0']\n",
    "sns.set(font_scale=0.7) \n",
    "sns.clustermap(dplot2v,figsize=(3, 11),col_cluster=False, \n",
    "               cmap=\"vlag\", center=0)"
   ]
  },
  {
   "cell_type": "code",
   "execution_count": null,
   "metadata": {},
   "outputs": [],
   "source": [
    "dplot2=(-1)*datade.pivot(columns=\"cond\", values=\"log2FoldChange\").fillna(0).loc[:,['T0_vs_T1','T1_vs_T2','T2_vs_T3',\n",
    "                                                                       'T3_vs_T4','T4_vs_T5']]\n",
    "dplot2.columns=['T1_T0','T2_T1','T3_T2','T4_T3','T5_T4']\n",
    "sns.set(font_scale=0.8) \n",
    "sns.clustermap(dplot2.loc[list(strde),:],figsize=(3, 9),col_cluster=False, \n",
    "               cmap=\"vlag\", center=0)"
   ]
  },
  {
   "cell_type": "code",
   "execution_count": null,
   "metadata": {},
   "outputs": [],
   "source": [
    "dplot2v=(-1)*datade.pivot(columns=\"cond\", values=\"log2FoldChange\").fillna(0).loc[:,['T0_vs_T1','T0_vs_T2','T0_vs_T3',\n",
    "                                                                       'T0_vs_T4','T0_vs_T5']]\n",
    "dplot2v.columns=['T1_T0','T2_T0','T3_T0','T4_T0','T5_T0']\n",
    "sns.set(font_scale=0.8) \n",
    "sns.clustermap(dplot2v.loc[list(strde),:],figsize=(3, 9),col_cluster=False, \n",
    "               cmap=\"vlag\", center=0)"
   ]
  },
  {
   "cell_type": "code",
   "execution_count": null,
   "metadata": {},
   "outputs": [],
   "source": [
    "dplot2=(-1)*datade.pivot(columns=\"cond\", values=\"log2FoldChange\").fillna(0).loc[:,['T0_vs_T1','T1_vs_T2','T2_vs_T3',\n",
    "                                                                       'T3_vs_T4','T4_vs_T5']]\n",
    "dplot2.columns=['T1_T0','T2_T1','T3_T2','T4_T3','T5_T4']\n",
    "sns.set(font_scale=0.8) \n",
    "sns.clustermap(dplot2.loc[list(UP3.union(UP5).union(UP4).union(UP44).union(UP55)),:],figsize=(3, 8),col_cluster=False, \n",
    "               cmap=\"vlag\", center=0)"
   ]
  },
  {
   "cell_type": "code",
   "execution_count": null,
   "metadata": {},
   "outputs": [],
   "source": [
    "dplot2v=(-1)*datade.pivot(columns=\"cond\", values=\"log2FoldChange\").fillna(0).loc[:,['T0_vs_T1','T0_vs_T2','T0_vs_T3',\n",
    "                                                                       'T0_vs_T4','T0_vs_T5']]\n",
    "dplot2v.columns=['T1_T0','T2_T0','T3_T0','T4_T0','T5_T0']\n",
    "sns.set(font_scale=0.8) \n",
    "sns.clustermap(dplot2v.loc[list(list(UP3.union(UP5).union(UP4).union(UP44).union(UP55))),:],figsize=(3, 8),col_cluster=False, \n",
    "               cmap=\"vlag\", center=0)"
   ]
  },
  {
   "cell_type": "code",
   "execution_count": null,
   "metadata": {},
   "outputs": [],
   "source": [
    "sns.clustermap(datade.pivot(columns=\"cond\", values=\"log2FoldChange\").fillna(0),figsize=(5, 11), \n",
    "               cmap=\"vlag\", center=0)"
   ]
  },
  {
   "cell_type": "code",
   "execution_count": null,
   "metadata": {},
   "outputs": [],
   "source": [
    "goidesorted=list(results_dflist['T0_vs_T2'].loc[list(aavproc_up.union(aavproc_dn)),:].sort_values(by='log2FoldChange', ascending=True).index)"
   ]
  },
  {
   "cell_type": "code",
   "execution_count": null,
   "metadata": {},
   "outputs": [],
   "source": [
    "list(aavproc_up.union(aavproc_dn))"
   ]
  },
  {
   "cell_type": "code",
   "execution_count": null,
   "metadata": {},
   "outputs": [],
   "source": [
    "datadesorted=list(results_dflist['T0_vs_T2'].loc[list(set(datadeh.index)),:].sort_values(by='log2FoldChange', ascending=True).index)"
   ]
  },
  {
   "cell_type": "code",
   "execution_count": null,
   "metadata": {},
   "outputs": [],
   "source": [
    "cdatak.obs['sample_treat']=cdatak.obs['individual_id'].astype(str)+\"_\"+cdatak.obs['MYCOND'].str.slice(0, 10)\n"
   ]
  },
  {
   "cell_type": "code",
   "execution_count": null,
   "metadata": {},
   "outputs": [],
   "source": [
    "cdata.obs['sample_treat']=cdata.obs['individual_id'].astype(str)+\"_\"+cdata.obs['MYCOND'].str.slice(0, 10)\n",
    "\n",
    "set(cdata.obs['sample_treat'])\n"
   ]
  },
  {
   "cell_type": "code",
   "execution_count": null,
   "metadata": {},
   "outputs": [],
   "source": [
    "\n",
    "korder=['4701_50',\n",
    " '4708_96',\n",
    " '4789_80',\n",
    " '4852_91',\n",
    " 'B1',\n",
    " 'B2',\n",
    " 'B11',\n",
    " 'B33',\n",
    " 'B37',\n",
    " 'B6',\n",
    " 'B3',\n",
    " 'B13',\n",
    " 'B7',\n",
    " 'B29',\n",
    " 'B20',\n",
    " 'B24',\n",
    " 'B12',\n",
    " 'B25',\n",
    " 'B23',\n",
    " 'B26',\n",
    " 'B17',\n",
    " 'B35',\n",
    " 'B39',\n",
    " 'B31'] # 'I201_MaleAAV2-C',\n",
    "\n",
    "#DElist['FemaleAAV2-CMV-GFP-FemaleUntreated']\n"
   ]
  },
  {
   "cell_type": "markdown",
   "metadata": {},
   "source": [
    "#### Genes upregulated in at least one condition "
   ]
  },
  {
   "cell_type": "code",
   "execution_count": null,
   "metadata": {},
   "outputs": [],
   "source": [
    "sc.settings.set_figure_params()"
   ]
  },
  {
   "cell_type": "code",
   "execution_count": null,
   "metadata": {},
   "outputs": [],
   "source": [
    "if (len(goidesorted)>0):\n",
    "    sc.pl.matrixplot(cdatak,goidesorted, groupby='individual_id', standard_scale='var',\n",
    "                 categories_order=korder)\n",
    "else:\n",
    "        sc.pl.matrixplot(cdatak,goi, groupby='individual_id', standard_scale='var',\n",
    "                 categories_order=korder)"
   ]
  },
  {
   "cell_type": "code",
   "execution_count": null,
   "metadata": {},
   "outputs": [],
   "source": [
    "sc.pl.matrixplot(cdatak,datadesorted, groupby='individual_id', standard_scale='var',\n",
    "                 categories_order=korder)"
   ]
  },
  {
   "cell_type": "code",
   "execution_count": null,
   "metadata": {},
   "outputs": [],
   "source": [
    "if (len(goidesorted)>0):\n",
    "    sc.pl.matrixplot(cdatak,goidesorted, groupby='MYCOND', standard_scale='var')\n",
    "else:\n",
    "    sc.pl.matrixplot(cdatak,goi, groupby='MYCOND', standard_scale='var')"
   ]
  },
  {
   "cell_type": "code",
   "execution_count": null,
   "metadata": {
    "scrolled": true
   },
   "outputs": [],
   "source": [
    "sc.pl.matrixplot(cdatak,datadesorted, groupby='MYCOND', standard_scale='var')"
   ]
  },
  {
   "cell_type": "code",
   "execution_count": null,
   "metadata": {},
   "outputs": [],
   "source": [
    "sc.pl.dotplot(cdatak,var_names=datadesorted, groupby='MYCOND')"
   ]
  },
  {
   "cell_type": "code",
   "execution_count": null,
   "metadata": {
    "scrolled": true
   },
   "outputs": [],
   "source": [
    "sc.pl.dotplot(cdatak,var_names=datadesorted, groupby='MYCOND', dot_max=0.3, vmax=2)"
   ]
  },
  {
   "cell_type": "markdown",
   "metadata": {},
   "source": [
    "#### Pathway and TF enrichment analysis "
   ]
  },
  {
   "cell_type": "code",
   "execution_count": null,
   "metadata": {},
   "outputs": [],
   "source": [
    "mypval=0.05\n",
    "myfc=np.log2(1.5)\n",
    "mypvalstr=str(mypval).replace('.','')[1:3]\n",
    "myfcstr=str(myfc).replace('.','')[0:2]\n",
    "\n",
    "\n",
    "\n",
    "# Retrieve CollecTRI gene regulatory network\n",
    "collectri = dc.get_collectri(organism='mouse', split_complexes=False)\n",
    "progeny_mouse = pd.read_csv(\"model_progeny500_mouse_decoupleR.csv\")\n",
    "msigdb_mouse = pd.read_csv(\"msigdb_mouse_hallmark.csv\")\n",
    "msigdb_mouse = msigdb_mouse[~msigdb_mouse.duplicated(['gene_symbol', 'gs_name'])]\n",
    "msigdb_mouse.loc[:, 'geneset'] = [name.split('HALLMARK_')[1] for name in msigdb_mouse['gs_name']]\n",
    "\n",
    "import gseapy\n",
    "\n",
    "dbs=['KEGG_2021_Human','KEGG_2019_Mouse','GO_Biological_Process_2023','Reactome_2022','Human_Gene_Atlas',\n",
    "     'WikiPathways_2019_Mouse','NCI-Nature_2016',\n",
    "     'ChEA_2022','CellMarker_Augmented_2021','Azimuth_Cell_Types_2021',\n",
    "     'COVID-19_Related_Gene_Sets_2021','MSigDB_Hallmark_2020','TG_GATES_2020']\n",
    "cdata.var['MeanExpr']=cdata.X.mean(axis=0).tolist()[0]\n",
    "if not os.path.exists(results_folder_out): os.mkdir(results_folder_out)\n",
    "if not os.path.exists(results_folder_out+'enrichr/'): os.mkdir(results_folder_out+'enrichr/')\n"
   ]
  },
  {
   "cell_type": "code",
   "execution_count": null,
   "metadata": {},
   "outputs": [],
   "source": [
    "tf_pvalslist={}\n",
    "tf_actslist={}\n",
    "pathway_actslist={}\n",
    "pathway_pvalslist={}\n",
    "enr_pvalslist={}\n",
    "\n",
    "for mycomp in results_dflist.keys():\n",
    "    print(mycomp)\n",
    "    results_df=results_dflist[mycomp]\n",
    "    mat = results_df[['stat']].T.rename(index={'stat': mycomp})\n",
    "    mat.replace([np.inf, -np.inf, np.nan], 0, inplace=True)\n",
    "    \n",
    "    # Infer pathway activities with ulm\n",
    "    tf_acts, tf_pvals = dc.run_ulm(mat=mat, net=collectri,min_n=5)\n",
    "    dc.plot_barplot(tf_acts, mycomp, top=25, vertical=False,save='TF_acts_'+mysubset+\"_\"+mycomp+'.pdf')\n",
    "    tf_actslist[mycomp]=tf_acts\n",
    "    tf_pvalslist[mycomp]=tf_pvals\n",
    "    \n",
    "    # Extract logFCs and pvals\n",
    "    logFCs = results_df[['log2FoldChange']].T.rename(index={'log2FoldChange': 'All'})\n",
    "    pvals = results_df[['padj']].T.rename(index={'padj': 'All'})\n",
    "    #dc.plot_volcano(logFCs, pvals, 'All', name='Hdac9', net=collectri, top=10, sign_thr=0.05, lFCs_thr=0.5,\n",
    "    #                save='TF_acts_'+mysubset+\"_\"+mycomp+'.pdf')\n",
    "\n",
    "    \n",
    "    pathway_acts, pathway_pvals = dc.run_mlm(mat=mat, net=progeny_mouse)\n",
    "    dc.plot_barplot(pathway_acts, mycomp, top=25, vertical=False, save='TF_acts_'+mysubset+\"_\"+mycomp+'.pdf')\n",
    "    pathway_actslist[mycomp]=pathway_acts\n",
    "    pathway_pvalslist[mycomp]=pathway_pvals\n",
    "    \n",
    "    # Infer enrichment with ora using significant deg\n",
    "    top_genes = results_df[results_df['padj'] < 0.05]\n",
    "\n",
    "    # Run ora\n",
    "    enr_pvals = dc.get_gsea_df(\n",
    "        df=results_df,\n",
    "        stat = 'stat',\n",
    "        net=msigdb_mouse,\n",
    "        source='geneset',\n",
    "        target='gene_symbol'\n",
    "    )\n",
    "\n",
    "    enr_pvals.sort_values('NES', ascending=False)\n",
    "    enr_pvals_filtered = enr_pvals[enr_pvals['FDR p-value'] < 0.05]\n",
    "    if (len(enr_pvals_filtered)>=1):\n",
    "        dc.plot_dotplot(enr_pvals_filtered, x='NES', y = 'Term', s='NES', c = 'FDR p-value', scale = 0.5, figsize=(7,10))\n",
    "        enr_pvals_filtered.to_csv(results_folder_out + 'ORA_Hallmarks_'+mysubset+\"_\"+mycomp+'.tsv', index=True, index_label='GeneName')\n",
    "    enr_pvalslist[mycomp]=enr_pvals\n",
    "       \n",
    "        \n",
    "    for j in dbs:\n",
    "        try:\n",
    "            gseapy.enrichr(gene_list=list(upslist[mycond].index), organism='mouse', \n",
    "                       gene_sets=j, background=list(cdata.var.loc[cdata.var['MeanExpr']>0.01]['SYMBOL']),\n",
    "                               cutoff=mypval, format='png',outdir=results_folder_out+'enrichr/'+myset+'-DE-wilcoxon-logFC'+myfcstr+'-padj'+mypvalstr+'-UP-'+mycomp+'/')\n",
    "        except:\n",
    "            print('No enrichr terms for '+j+ ' and UP')\n",
    "        try:\n",
    "            gseapy.enrichr(gene_list=list(downslist[mycond].index), organism='mouse', \n",
    "                       gene_sets=j, background=list(cdata.var.loc[cdata.var['MeanExpr']>0.01]['SYMBOL']),\n",
    "                               cutoff=mypval, format='png',outdir=results_folder_out+'enrichr/'+myset+'-DE-wilcoxon-logFC'+myfcstr+'-padj'+mypvalstr+'-DN-'+mycomp+'/')\n",
    "        except:\n",
    "            print('No enrichr terms for '+j+ ' and DN')"
   ]
  },
  {
   "cell_type": "code",
   "execution_count": null,
   "metadata": {},
   "outputs": [],
   "source": []
  },
  {
   "cell_type": "code",
   "execution_count": null,
   "metadata": {},
   "outputs": [],
   "source": []
  },
  {
   "cell_type": "code",
   "execution_count": null,
   "metadata": {},
   "outputs": [],
   "source": [
    "tfcut=2.5\n",
    "sigcut=0.5"
   ]
  },
  {
   "cell_type": "code",
   "execution_count": null,
   "metadata": {},
   "outputs": [],
   "source": [
    "pathway_actslist.keys()"
   ]
  },
  {
   "cell_type": "code",
   "execution_count": null,
   "metadata": {},
   "outputs": [],
   "source": [
    "p1=set(pathway_actslist['T0_vs_T1'].loc[: , (pathway_actslist['T0_vs_T1'].abs() >=1).any()].columns)\n",
    "p2=set(pathway_actslist['T0_vs_T2'].loc[: , (pathway_actslist['T0_vs_T2'].abs() >=1).any()].columns)\n",
    "p3=set(pathway_actslist['T0_vs_T3'].loc[: , (pathway_actslist['T0_vs_T3'].abs() >=1).any()].columns)\n",
    "p4=set(pathway_actslist['T0_vs_T4'].loc[: , (pathway_actslist['T0_vs_T4'].abs() >=1).any()].columns)\n",
    "p5=set(pathway_actslist['T0_vs_T5'].loc[: , (pathway_actslist['T0_vs_T5'].abs() >=1).any()].columns)"
   ]
  },
  {
   "cell_type": "code",
   "execution_count": null,
   "metadata": {},
   "outputs": [],
   "source": [
    "p1"
   ]
  },
  {
   "cell_type": "code",
   "execution_count": null,
   "metadata": {},
   "outputs": [],
   "source": [
    "p2"
   ]
  },
  {
   "cell_type": "code",
   "execution_count": null,
   "metadata": {},
   "outputs": [],
   "source": [
    "p3"
   ]
  },
  {
   "cell_type": "code",
   "execution_count": null,
   "metadata": {},
   "outputs": [],
   "source": [
    "p4"
   ]
  },
  {
   "cell_type": "code",
   "execution_count": null,
   "metadata": {},
   "outputs": [],
   "source": [
    "p5"
   ]
  },
  {
   "cell_type": "code",
   "execution_count": null,
   "metadata": {},
   "outputs": [],
   "source": [
    "\n",
    "tf1=set(tf_actslist['T0_vs_T1'].loc[: , (tf_actslist['T0_vs_T1'].abs() >=tfcut).any()].columns)\n",
    "tf2=set(tf_actslist['T0_vs_T2'].loc[: , (tf_actslist['T0_vs_T2'].abs() >=tfcut).any()].columns)\n",
    "tf3=set(tf_actslist['T0_vs_T3'].loc[: , (tf_actslist['T0_vs_T3'].abs() >=tfcut).any()].columns)\n",
    "tf4=set(tf_actslist['T0_vs_T4'].loc[: , (tf_actslist['T0_vs_T4'].abs() >=tfcut).any()].columns)\n",
    "tf5=set(tf_actslist['T0_vs_T5'].loc[: , (tf_actslist['T0_vs_T5'].abs() >=tfcut).any()].columns)"
   ]
  },
  {
   "cell_type": "code",
   "execution_count": null,
   "metadata": {},
   "outputs": [],
   "source": [
    "tf1"
   ]
  },
  {
   "cell_type": "code",
   "execution_count": null,
   "metadata": {},
   "outputs": [],
   "source": [
    "nescut=1"
   ]
  },
  {
   "cell_type": "code",
   "execution_count": null,
   "metadata": {},
   "outputs": [],
   "source": [
    "#sv=set(enr_pvalslist['V3X_vs_V24H'].loc[(enr_pvalslist['V3X_vs_V24H']['NES'].abs() >=nescut),\"Term\"])\n",
    "\n",
    "s1=set(enr_pvalslist['T0_vs_T1'].loc[(enr_pvalslist['T0_vs_T1']['NES'].abs() >=nescut),\"Term\"])\n",
    "s2=set(enr_pvalslist['T0_vs_T2'].loc[(enr_pvalslist['T0_vs_T2']['NES'].abs() >=nescut),\"Term\"])\n",
    "s3=set(enr_pvalslist['T0_vs_T3'].loc[ (enr_pvalslist['T0_vs_T3']['NES'].abs() >=nescut),\"Term\"])\n",
    "s4=set(enr_pvalslist['T0_vs_T4'].loc[(enr_pvalslist['T0_vs_T4']['NES'].abs() >=nescut),\"Term\"])\n",
    "s5=set(enr_pvalslist['T0_vs_T5'].loc[(enr_pvalslist['T0_vs_T5']['NES'].abs() >=nescut),\"Term\"])\n"
   ]
  },
  {
   "cell_type": "code",
   "execution_count": null,
   "metadata": {},
   "outputs": [],
   "source": [
    "allp=p1.union(p2).union(p3).union(p4).union(p5)\n",
    "allt=tf1.union(tf2).union(tf3).union(tf4).union(tf5)\n",
    "alls=s1.union(s2).union(s3).union(s4).union(s5)"
   ]
  },
  {
   "cell_type": "code",
   "execution_count": null,
   "metadata": {},
   "outputs": [],
   "source": [
    "patde=pd.DataFrame()\n",
    "sigde=pd.DataFrame()\n",
    "tfde=pd.DataFrame()\n",
    "\n",
    "for key in upslist.keys():\n",
    "    tmp=pathway_actslist[key].loc[:,list(allp)]\n",
    "    tmp['cond']=key\n",
    "    patde=pd.concat([patde,tmp], axis=0, join='outer', ignore_index=False,)\n",
    "    \n",
    "    tmp=tf_actslist[key].loc[:,list(allt)]\n",
    "    tmp['cond']=key\n",
    "    tfde=pd.concat([tfde,tmp], axis=0, join='outer', ignore_index=False,)\n",
    "   \n",
    "    tmp=enr_pvalslist[key].loc[enr_pvalslist[key]['Term'].isin(list(alls)),:]\n",
    "    tmp['cond']=key\n",
    "    sigde=pd.concat([sigde,tmp], axis=0, join='outer', ignore_index=False,)\n"
   ]
  },
  {
   "cell_type": "code",
   "execution_count": null,
   "metadata": {},
   "outputs": [],
   "source": [
    "sigde"
   ]
  },
  {
   "cell_type": "code",
   "execution_count": null,
   "metadata": {},
   "outputs": [],
   "source": [
    "patde.to_csv(results_folder_out + \"TopUPs_Pathways_\"+mysubset+\"_all.csv\", index=False)\n",
    "patde=patde.drop(columns='cond').transpose()"
   ]
  },
  {
   "cell_type": "code",
   "execution_count": null,
   "metadata": {},
   "outputs": [],
   "source": [
    "tfde.to_csv(results_folder_out + \"TopUPs_TFs_\"+mysubset+\"_all.csv\", index=False)\n",
    "tfde=tfde.drop(columns='cond').transpose()"
   ]
  },
  {
   "cell_type": "code",
   "execution_count": null,
   "metadata": {},
   "outputs": [],
   "source": [
    "sigde.to_csv(results_folder_out + \"TopUPs_Signatures_\"+mysubset+\"_all.csv\", index=False)\n",
    "#sigde=tfde.drop(columns='cond').transpose()"
   ]
  },
  {
   "cell_type": "code",
   "execution_count": null,
   "metadata": {},
   "outputs": [],
   "source": [
    "sigde=sigde.pivot(columns=\"cond\", values=\"NES\", index='Term')"
   ]
  },
  {
   "cell_type": "code",
   "execution_count": null,
   "metadata": {},
   "outputs": [],
   "source": [
    "g=sns.clustermap(sigde,figsize=(6, 12), cmap=\"vlag\", center=0)\n",
    "plt.setp(g.ax_heatmap.get_yticklabels(), rotation=0) # For x axis"
   ]
  },
  {
   "cell_type": "code",
   "execution_count": null,
   "metadata": {},
   "outputs": [],
   "source": [
    "\n",
    "g=sns.clustermap(patde,figsize=(4, 6), cmap=\"vlag\", center=0)\n",
    "plt.setp(g.ax_heatmap.get_yticklabels(), rotation=0) # For x axis"
   ]
  },
  {
   "cell_type": "code",
   "execution_count": null,
   "metadata": {},
   "outputs": [],
   "source": [
    "\n",
    "g=sns.clustermap(tfde,figsize=(4, 9), cmap=\"vlag\", center=0)\n",
    "plt.setp(g.ax_heatmap.get_yticklabels(), rotation=0) # For x axis"
   ]
  },
  {
   "cell_type": "code",
   "execution_count": null,
   "metadata": {},
   "outputs": [],
   "source": [
    "#dc.plot_targets(results_df, stat='stat', source_name='TGFb', net=progeny_mouse, top=15)\n",
    "\n",
    "#dc.plot_targets(results_df, stat='stat', source_name='MAPK', net=progeny_mouse, top=15)\n",
    "\n",
    "##dc.plot_targets(results_df, stat='stat', source_name='PI3K', net=progeny_mouse, top=15)\n",
    "\n",
    "## Functional enrichment of biological terms\n"
   ]
  },
  {
   "cell_type": "code",
   "execution_count": null,
   "metadata": {},
   "outputs": [],
   "source": [
    "#infolder='/projects/site/pred/scseq/projects/PS-10732_400045_SNS_of_AAV_livers_8050P21/fulldata/'\n",
    "#myaav=pd.read_csv(infolder+'Factors_AAV_processing_final.csv',sep='\\t', header=None)\n"
   ]
  },
  {
   "cell_type": "code",
   "execution_count": null,
   "metadata": {},
   "outputs": [],
   "source": [
    "#myaav=list(set(list(myaav[0])))"
   ]
  },
  {
   "cell_type": "markdown",
   "metadata": {},
   "source": [
    "#### Genes of interest, DE in both approaches (AAV vs. C)"
   ]
  },
  {
   "cell_type": "code",
   "execution_count": null,
   "metadata": {},
   "outputs": [],
   "source": [
    "sc.pl.matrixplot(cdata,list(set(goi)), groupby='MYCOND', standard_scale='var')"
   ]
  },
  {
   "cell_type": "code",
   "execution_count": null,
   "metadata": {},
   "outputs": [],
   "source": [
    "pubg=['Spp1', 'Mmp2', 'Tgfb1', 'Apoe', 'Ctsb', 'H2-Aa', 'H2-Ab1', 'Cxcl9', 'Cxcl10']"
   ]
  },
  {
   "cell_type": "code",
   "execution_count": null,
   "metadata": {},
   "outputs": [],
   "source": [
    "sc.pl.matrixplot(cdata,list(set(datadesorted)), groupby='MYCOND', standard_scale='var')"
   ]
  },
  {
   "cell_type": "code",
   "execution_count": null,
   "metadata": {
    "scrolled": true
   },
   "outputs": [],
   "source": [
    "sc.pl.umap(cdata,color='celltype4')"
   ]
  },
  {
   "cell_type": "code",
   "execution_count": null,
   "metadata": {},
   "outputs": [],
   "source": [
    "def getAverageGeneExpression(sdata, myg, sample):\n",
    "    # Table with average gene expression per condition\n",
    "    obs = sdata.raw[:,myg].X.toarray()\n",
    "    obs = pd.DataFrame(obs, columns=myg, index=sdata.obs[sample])\n",
    "    average_obs = obs.groupby(level=0).mean()\n",
    "\n",
    "    print(\"Average expression per gene and sample\")\n",
    "    display(average_obs)\n",
    "    return average_obs"
   ]
  },
  {
   "cell_type": "code",
   "execution_count": null,
   "metadata": {},
   "outputs": [],
   "source": [
    "goi=list(set(goi))"
   ]
  },
  {
   "cell_type": "code",
   "execution_count": null,
   "metadata": {},
   "outputs": [],
   "source": [
    "average_obs = getAverageGeneExpression(cdatak, pubg, 'individual_id')"
   ]
  },
  {
   "cell_type": "code",
   "execution_count": null,
   "metadata": {},
   "outputs": [],
   "source": []
  },
  {
   "cell_type": "code",
   "execution_count": null,
   "metadata": {},
   "outputs": [],
   "source": [
    "average_obs=average_obs.loc[:,(average_obs!=0).any(axis=0)]"
   ]
  },
  {
   "cell_type": "code",
   "execution_count": null,
   "metadata": {},
   "outputs": [],
   "source": [
    "average_obs"
   ]
  },
  {
   "cell_type": "code",
   "execution_count": null,
   "metadata": {},
   "outputs": [],
   "source": [
    "import math"
   ]
  },
  {
   "cell_type": "code",
   "execution_count": null,
   "metadata": {},
   "outputs": [],
   "source": [
    "sdata=cdatak.copy()\n",
    "myg=goi\n",
    "tr='treatment_id'\n",
    "sample='individual_id'"
   ]
  },
  {
   "cell_type": "code",
   "execution_count": null,
   "metadata": {},
   "outputs": [],
   "source": [
    "mypalette={\"baseline\":\"black\", \"CEA-TCB\": \"red\"}"
   ]
  },
  {
   "cell_type": "code",
   "execution_count": null,
   "metadata": {},
   "outputs": [],
   "source": [
    "def plotBoxplot(sdata, average_obs, myg, sample, tr):\n",
    "    tmp=sdata.obs[[sample,tr,'compound_name']].drop_duplicates().merge(average_obs, on=sample, how=\"left\")\n",
    "\n",
    "    max_cols = 5\n",
    "    rows = math.ceil(len(myg)/max_cols)\n",
    "    col = min(max_cols, len(myg))\n",
    "\n",
    "    fig, axes = plt.subplots(rows, col, figsize=(5*col, 4*rows), gridspec_kw={'wspace': 0.55, 'hspace': 0.4, 'left': 0.25})\n",
    "    plt.subplots_adjust(left=0.1, right=0.98, top=0.82, bottom=0.1)\n",
    "    if len(myg) == 1:\n",
    "        axes = [axes]\n",
    "    else:\n",
    "        axes = axes.flatten()\n",
    "\n",
    "    for i, gene in enumerate(myg):\n",
    "        ax=sns.boxplot(data=tmp, y=gene, x=tr, fliersize=0, ax=axes[i], hue='compound_name', palette=mypalette)\n",
    "        sns.stripplot(data=tmp, y=gene, x=tr, dodge=True, color=\"black\", jitter=0.2, \n",
    "                              size=5, ax=ax, hue='compound_name')\n",
    "        dump = ax.set_xticklabels([t.get_text() for t in ax.get_xticklabels()], rotation = 0)\n",
    "        handles, labels = ax.get_legend_handles_labels()\n",
    "        subset=int(len(handles)/2) # Only legeng for boxplot (half of the handles), not for the dots\n",
    "        ax.legend(handles[0:subset], labels[0:subset], fontsize='12', title_fontsize='5')\n",
    "        \n",
    "    #plt.savefig(figdir+'GeneExpression-pubgenes-'+mysubset+'.pdf')\n",
    "    #plt.savefig(figdir+'GeneExpression-pubgenes-'+mysubset+'.svg')"
   ]
  },
  {
   "cell_type": "code",
   "execution_count": null,
   "metadata": {},
   "outputs": [],
   "source": [
    "#goi=list(set(goi).intersection(set(average_obs.columns)))"
   ]
  },
  {
   "cell_type": "code",
   "execution_count": null,
   "metadata": {},
   "outputs": [],
   "source": [
    "list(set(goi).intersection(set(average_obs.columns)))"
   ]
  },
  {
   "cell_type": "code",
   "execution_count": null,
   "metadata": {},
   "outputs": [],
   "source": [
    "figdir=os.path.join(root_path, 'analyzed', analysis_name+'/figures/')"
   ]
  },
  {
   "cell_type": "code",
   "execution_count": null,
   "metadata": {},
   "outputs": [],
   "source": [
    "plotBoxplot(cdatak, average_obs, pubg, 'individual_id', 'treatment_id')\n"
   ]
  },
  {
   "cell_type": "code",
   "execution_count": null,
   "metadata": {},
   "outputs": [],
   "source": [
    "average_obs = getAverageGeneExpression(cdatak, goi, 'individual_id')"
   ]
  },
  {
   "cell_type": "code",
   "execution_count": null,
   "metadata": {},
   "outputs": [],
   "source": [
    "plotBoxplot(cdatak, average_obs, list(set(goi).intersection(set(average_obs.columns))), 'individual_id', 'treatment_id')"
   ]
  },
  {
   "cell_type": "code",
   "execution_count": null,
   "metadata": {},
   "outputs": [],
   "source": [
    "pubg"
   ]
  },
  {
   "cell_type": "code",
   "execution_count": null,
   "metadata": {},
   "outputs": [],
   "source": [
    "dg=['Isg15', 'Ifit1', 'Ifit3', 'Ido1', 'Cxcl9', 'Cxcl10', 'H2-Aa', 'H2-Ab1', \n",
    "    'Spp1', 'Cd163', 'Vsig4', 'Fn1', 'Gpnmb', 'Mrc1', 'Trem2', 'Lgmn', 'Msr1', 'Ccl4', 'Il6', 'Egr4', 'Cd274', \n",
    "    'Ctsd', 'Ctss']"
   ]
  },
  {
   "cell_type": "code",
   "execution_count": null,
   "metadata": {},
   "outputs": [],
   "source": [
    "\n",
    "sc.settings.set_figure_params()"
   ]
  },
  {
   "cell_type": "code",
   "execution_count": null,
   "metadata": {},
   "outputs": [],
   "source": [
    "sc.pl.dotplot(cdatak,var_names=dg, groupby='treatment_id',  save='-treatment_id-'+mysubset+'.nonorm.svg')"
   ]
  },
  {
   "cell_type": "code",
   "execution_count": null,
   "metadata": {},
   "outputs": [],
   "source": [
    "sc.pl.matrixplot(cdatak,var_names=dg, groupby='treatment_id', standard_scale='var', save='-treatment_id-'+mysubset+'.nonorm.svg')"
   ]
  },
  {
   "cell_type": "code",
   "execution_count": null,
   "metadata": {},
   "outputs": [],
   "source": [
    "pubg=['Cxcl9', 'Cxcl10','Isg15','Ifit1','Ifit3','Ido1','Cd274','H2-Aa', 'H2-Ab1',  'Mmp2',  'Apoe', 'Ctsb','Trem2','Lgmn','Egr4', 'Tgfb1','Spp1']"
   ]
  },
  {
   "cell_type": "code",
   "execution_count": null,
   "metadata": {},
   "outputs": [],
   "source": [
    "sc.pl.matrixplot(cdatak,var_names=pubg, groupby='treatment_id', standard_scale='var', save='-treatment_id-'+mysubset+'.pubg.nonorm.svg')"
   ]
  },
  {
   "cell_type": "code",
   "execution_count": null,
   "metadata": {},
   "outputs": [],
   "source": [
    "sc.pl.dotplot(cdatak,var_names=pubg, groupby='treatment_id',  \n",
    "              save='-treatment_id-'+mysubset+'.pubg.nonorm.svg')"
   ]
  },
  {
   "cell_type": "code",
   "execution_count": null,
   "metadata": {},
   "outputs": [],
   "source": [
    "sns.set(font_scale=0.8)\n",
    "a=sns.clustermap(average_obs.loc[korder,:], col_cluster=True, row_cluster=False, figsize=(12,7),\n",
    "                 cmap='viridis', metric='correlation', standard_scale=1) #row_colors=mycol, vmax=0.8"
   ]
  },
  {
   "cell_type": "code",
   "execution_count": null,
   "metadata": {},
   "outputs": [],
   "source": [
    "#sns.set(font_scale=0.8)\n",
    "#a=sns.clustermap(average_obs.loc[korder,goiinf], col_cluster=True, row_cluster=False, figsize=(10,6),\n",
    "#                 cmap='viridis', metric='correlation', standard_scale=1) #row_colors=mycol, vmax=0.8"
   ]
  },
  {
   "cell_type": "code",
   "execution_count": null,
   "metadata": {},
   "outputs": [],
   "source": [
    "#sns.set(font_scale=0.8)\n",
    "#a=sns.clustermap(average_obs.loc[korder,goirep], col_cluster=True, row_cluster=False, figsize=(10,6),\n",
    "#                 cmap='viridis', metric='correlation', standard_scale=1) #row_colors=mycol, vmax=0.8"
   ]
  },
  {
   "cell_type": "code",
   "execution_count": null,
   "metadata": {},
   "outputs": [],
   "source": [
    "average_obs = getAverageGeneExpression(cdatak, goidesorted, 'individual_id')\n"
   ]
  },
  {
   "cell_type": "code",
   "execution_count": null,
   "metadata": {},
   "outputs": [],
   "source": [
    "\n",
    "sns.set(font_scale=0.8)\n",
    "a=sns.clustermap(average_obs.loc[korder,:], col_cluster=True, row_cluster=False, figsize=(9,5),\n",
    "                 cmap='viridis', metric='correlation', standard_scale=1) #row_colors=mycol, vmax=0.8\n",
    "\n",
    "sc.settings.set_figure_params()\n",
    "\n",
    "\n",
    "\n"
   ]
  },
  {
   "cell_type": "code",
   "execution_count": null,
   "metadata": {},
   "outputs": [],
   "source": [
    "plotBoxplot(cdatak, average_obs, goidesorted, 'individual_id', 'treatment_id')"
   ]
  },
  {
   "cell_type": "code",
   "execution_count": null,
   "metadata": {},
   "outputs": [],
   "source": [
    "len(alldehigh)"
   ]
  },
  {
   "cell_type": "code",
   "execution_count": null,
   "metadata": {},
   "outputs": [],
   "source": [
    "#goichoice=['Atacayos', 'Fam71a', Ifitm10, Npnt] "
   ]
  },
  {
   "cell_type": "code",
   "execution_count": null,
   "metadata": {},
   "outputs": [],
   "source": [
    "#average_obs = getAverageGeneExpression(cdatak, list(alldehigh), 'individual_id')\n",
    "\n",
    "average_obs = getAverageGeneExpression(cdatak, list(allde), 'individual_id')"
   ]
  },
  {
   "cell_type": "code",
   "execution_count": null,
   "metadata": {},
   "outputs": [],
   "source": [
    "sns.set(font_scale=0.8)\n",
    "a=sns.clustermap(average_obs.loc[korder,:], col_cluster=True, row_cluster=False, figsize=(13,6),\n",
    "                 cmap='viridis', metric='correlation', standard_scale=1) #row_colors=mycol, vmax=0.8"
   ]
  },
  {
   "cell_type": "code",
   "execution_count": null,
   "metadata": {},
   "outputs": [],
   "source": [
    "sc.settings.set_figure_params()"
   ]
  },
  {
   "cell_type": "code",
   "execution_count": null,
   "metadata": {},
   "outputs": [],
   "source": [
    "plotBoxplot(cdatak, average_obs, list(alldehigh), 'individual_id', 'treatment_id')"
   ]
  },
  {
   "cell_type": "code",
   "execution_count": null,
   "metadata": {},
   "outputs": [],
   "source": [
    "average_obs = getAverageGeneExpression(cdatak, latede, 'individual_id')"
   ]
  },
  {
   "cell_type": "code",
   "execution_count": null,
   "metadata": {},
   "outputs": [],
   "source": [
    "sns.set(font_scale=0.8)\n",
    "a=sns.clustermap(average_obs.loc[korder,:], col_cluster=True, row_cluster=False, figsize=(12,6),\n",
    "                 cmap='viridis', metric='correlation', standard_scale=1) #row_colors=mycol, vmax=0.8"
   ]
  },
  {
   "cell_type": "code",
   "execution_count": null,
   "metadata": {},
   "outputs": [],
   "source": [
    "sc.settings.set_figure_params()\n"
   ]
  },
  {
   "cell_type": "code",
   "execution_count": null,
   "metadata": {},
   "outputs": [],
   "source": [
    "\n",
    "plotBoxplot(cdatak, average_obs, latede, 'individual_id', 'treatment_id')"
   ]
  },
  {
   "cell_type": "code",
   "execution_count": null,
   "metadata": {},
   "outputs": [],
   "source": [
    "#sc.pl.umap(adata, color=['Ceacam1'])"
   ]
  },
  {
   "cell_type": "code",
   "execution_count": null,
   "metadata": {},
   "outputs": [],
   "source": [
    "! jupyter nbconvert --to html DEAnalysis-Decoupler.ipynb"
   ]
  },
  {
   "cell_type": "code",
   "execution_count": null,
   "metadata": {},
   "outputs": [],
   "source": []
  }
 ],
 "metadata": {
  "kernelspec": {
   "display_name": "BeSpace_env_Nov23_AV",
   "language": "python",
   "name": "bespace_env_nov23_av"
  },
  "language_info": {
   "codemirror_mode": {
    "name": "ipython",
    "version": 3
   },
   "file_extension": ".py",
   "mimetype": "text/x-python",
   "name": "python",
   "nbconvert_exporter": "python",
   "pygments_lexer": "ipython3",
   "version": "3.9.16"
  }
 },
 "nbformat": 4,
 "nbformat_minor": 4
}

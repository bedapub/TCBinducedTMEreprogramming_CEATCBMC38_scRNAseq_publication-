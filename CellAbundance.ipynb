{
 "cells": [
  {
   "cell_type": "markdown",
   "metadata": {},
   "source": [
    "# Differential cell abundance analysis\n",
    "\n",
    "This workbook performs differential cell abundance analysis at cell type level. \n",
    "It plots cell fractions stratified according to conditions. "
   ]
  },
  {
   "cell_type": "code",
   "execution_count": null,
   "metadata": {},
   "outputs": [],
   "source": [
    "import besca as bc\n",
    "import numpy as np\n",
    "import pandas as pd\n",
    "import scanpy as sc\n",
    "import matplotlib.pyplot as plt\n",
    "from scipy import sparse, io\n",
    "import scvelo as scv\n",
    "import os\n",
    "import time\n",
    "import logging\n",
    "import pkg_resources\n",
    "import seaborn as sns\n",
    "\n",
    "sc.logging.print_versions()\n",
    "\n",
    "# for standard processing, set verbosity to minimum\n",
    "sc.settings.verbosity = 0  # verbosity: errors (0), warnings (1), info (2), hints (3)\n",
    "sc.settings.set_figure_params(dpi=80)\n",
    "version = '2.3'\n",
    "start0 = time.time()"
   ]
  },
  {
   "cell_type": "code",
   "execution_count": null,
   "metadata": {},
   "outputs": [],
   "source": [
    "analysis_name = 'sw_besca24'\n",
    "species='mouse' ## or mouse for now\n",
    "conversion=None\n",
    "#analysis_name = 'standard_workflow_besca2_CLR' #use _CLR or _DSB for citeseq analysis\n",
    "annot_author = 'schwalip' ### replace with userid\n",
    "clusters='leiden'\n",
    "split_condition='readout_id' #'readout_id' per the study registration CVs\n",
    "root_path = os.getcwd()\n",
    "\n",
    "citeseq=False\n",
    "if clusters == 'leiden':\n",
    "    results_folder = os.path.join(root_path, 'analyzed')\n",
    "    if citeseq:\n",
    "        results_folder = os.path.join(results_folder, analysis_name, 'citeseq' , 'citeseq') \n",
    "    else:\n",
    "        results_folder = os.path.join(results_folder, analysis_name)\n",
    "else:\n",
    "    results_folder = os.path.join(root_path, 'analyzed', analysis_name, 'citeseq', clusters)"
   ]
  },
  {
   "cell_type": "code",
   "execution_count": null,
   "metadata": {},
   "outputs": [],
   "source": [
    "### Create export file and folder names\n",
    "results_file = os.path.join(results_folder, analysis_name + '.annotated.h5ad')\n",
    "figdir=os.path.join(root_path, 'analyzed', analysis_name+'/figures/')\n",
    "sc.settings.figdir = figdir\n",
    "if not os.path.exists(figdir):\n",
    "    os.makedirs(figdir)"
   ]
  },
  {
   "cell_type": "code",
   "execution_count": null,
   "metadata": {},
   "outputs": [],
   "source": [
    "results_folder_out = os.path.join(root_path, 'analyzed', analysis_name+'/cell_abundance/')\n",
    "if not os.path.exists(results_folder_out):\n",
    "    os.makedirs(results_folder_out)\n",
    "    \n"
   ]
  },
  {
   "cell_type": "code",
   "execution_count": null,
   "metadata": {},
   "outputs": [],
   "source": [
    "results_file"
   ]
  },
  {
   "cell_type": "code",
   "execution_count": null,
   "metadata": {},
   "outputs": [],
   "source": [
    "adata = sc.read_h5ad(results_file)\n",
    "#adata\n",
    "adata.uns['log1p'] = {'base' : None}"
   ]
  },
  {
   "cell_type": "code",
   "execution_count": null,
   "metadata": {},
   "outputs": [],
   "source": [
    "set(adata.obs['treatment_id'])"
   ]
  },
  {
   "cell_type": "code",
   "execution_count": null,
   "metadata": {},
   "outputs": [],
   "source": [
    "### Set parameters \n",
    "subsetvar='readout_id'\n",
    "condition='treatment_id'\n"
   ]
  },
  {
   "cell_type": "code",
   "execution_count": null,
   "metadata": {},
   "outputs": [],
   "source": [
    "set(adata.obs['celltype1'])"
   ]
  },
  {
   "cell_type": "code",
   "execution_count": null,
   "metadata": {},
   "outputs": [],
   "source": [
    "pdata=adata.copy() #[adata.obs['celltype0'].isin(['hematopoietic cell','endothelial cell',\n",
    "                    #                     'epithelial cell','malignant cell','fibroblast'])].copy()\n",
    "initialsubset='All'\n",
    "fullsubset='All'"
   ]
  },
  {
   "cell_type": "code",
   "execution_count": null,
   "metadata": {},
   "outputs": [],
   "source": [
    "sc.settings.set_figure_params(dpi=80)"
   ]
  },
  {
   "cell_type": "code",
   "execution_count": null,
   "metadata": {},
   "outputs": [],
   "source": [
    "sc.pl.umap(adata, color='treatment_id', save='-treatment_id-'+fullsubset+'.pdf')\n",
    "sc.pl.umap(adata, color='treatment_id', save='-treatment_id-'+fullsubset+'.svg')\n"
   ]
  },
  {
   "cell_type": "code",
   "execution_count": null,
   "metadata": {},
   "outputs": [],
   "source": [
    "sc.pl.umap(adata, color='celltype1', save='-celltype1-'+fullsubset+'.pdf')\n",
    "sc.pl.umap(adata, color='celltype1', save='-celltype1-'+fullsubset+'.svg')"
   ]
  },
  {
   "cell_type": "code",
   "execution_count": null,
   "metadata": {},
   "outputs": [],
   "source": [
    "sc.pl.umap(adata, color='leiden', legend_loc='on data',save='-leiden-'+fullsubset+'.pdf')\n",
    "sc.pl.umap(adata, color='leiden', legend_loc='on data',save='-leiden-'+fullsubset+'.svg')"
   ]
  },
  {
   "cell_type": "code",
   "execution_count": null,
   "metadata": {},
   "outputs": [],
   "source": [
    "adata.obs['celltype']=adata.obs['dblabel'].copy()\n",
    "pdata.obs['celltype']=pdata.obs['dblabel'].copy()"
   ]
  },
  {
   "cell_type": "code",
   "execution_count": null,
   "metadata": {},
   "outputs": [],
   "source": [
    "adata.obs['celltype_simple']=adata.obs['celltype2'].copy()\n",
    "pdata.obs['celltype_simple']=pdata.obs['celltype2'].copy()"
   ]
  },
  {
   "cell_type": "markdown",
   "metadata": {},
   "source": [
    "### Some initial plots"
   ]
  },
  {
   "cell_type": "code",
   "execution_count": null,
   "metadata": {},
   "outputs": [],
   "source": [
    "sc.pl.umap(pdata, color='celltype', save='-celltype-'+initialsubset+'.pdf')\n",
    "sc.pl.umap(pdata, color='celltype', save='-celltype-'+initialsubset+'.svg')"
   ]
  },
  {
   "cell_type": "code",
   "execution_count": null,
   "metadata": {},
   "outputs": [],
   "source": [
    "sc.pl.umap(pdata, color='leiden', legend_loc='on data',save='-leiden-'+initialsubset+'.pdf')"
   ]
  },
  {
   "cell_type": "code",
   "execution_count": null,
   "metadata": {},
   "outputs": [],
   "source": [
    "sc.pl.umap(pdata, color='treatment_id', save='-treatmentID-'+initialsubset+'.pdf')"
   ]
  },
  {
   "cell_type": "code",
   "execution_count": null,
   "metadata": {},
   "outputs": [],
   "source": []
  },
  {
   "cell_type": "code",
   "execution_count": null,
   "metadata": {},
   "outputs": [],
   "source": [
    "pdata.obs['celltypelei']=list(pdata.obs['leiden'].astype('str')+'-'+pdata.obs['celltype'].astype('str'))\n",
    "adata.obs['celltypelei']=list(adata.obs['leiden'].astype('str')+'-'+adata.obs['celltype'].astype('str'))"
   ]
  },
  {
   "cell_type": "code",
   "execution_count": null,
   "metadata": {},
   "outputs": [],
   "source": [
    "adata.obs['celltypeleisimp']=list(adata.obs['leiden'].astype('str')+'-'+adata.obs['celltype_simple'].astype('str'))\n",
    "pdata.obs['celltypeleisimp']=list(pdata.obs['leiden'].astype('str')+'-'+pdata.obs['celltype_simple'].astype('str'))"
   ]
  },
  {
   "cell_type": "code",
   "execution_count": null,
   "metadata": {},
   "outputs": [],
   "source": [
    "sc.pl.umap(pdata, color='celltypelei')"
   ]
  },
  {
   "cell_type": "code",
   "execution_count": null,
   "metadata": {},
   "outputs": [],
   "source": [
    "var1='celltypelei'\n",
    "var2='treatment_id'\n",
    "var2='sample_id'\n"
   ]
  },
  {
   "cell_type": "code",
   "execution_count": null,
   "metadata": {},
   "outputs": [],
   "source": [
    "figdir"
   ]
  },
  {
   "cell_type": "code",
   "execution_count": null,
   "metadata": {},
   "outputs": [],
   "source": [
    "plt.rcParams[\"figure.figsize\"] = (7,3)\n",
    "\n",
    "tmp=bc.tl.count_occurrence_subset(pdata, var1, count_variable=var2, return_percentage=True)\n",
    "tmp.transpose().plot.bar(stacked=True)\n",
    "plt.legend(bbox_to_anchor=(1.04,1), loc=\"upper left\")\n",
    "plt.tick_params(axis='x', labelsize=12)\n",
    "plt.tick_params(axis='y', labelsize=12)\n",
    "plt.savefig(figdir+'Barplots-'+var1+'_per_'+var2+'.pdf')\n",
    "plt.savefig(figdir+'Barplots-'+var1+'_per_'+var2+'.svg')\n",
    "\n",
    "#    ax.set_ylabel(ylabel='Perc '+mycell,fontsize=10)\n",
    "#    ax.set_xlabel(xlabel='Response ',fontsize=10)"
   ]
  },
  {
   "cell_type": "code",
   "execution_count": null,
   "metadata": {},
   "outputs": [],
   "source": [
    "var2='celltype_simple'\n",
    "var1='treatment_id'\n",
    "#var2='sample_id'\n"
   ]
  },
  {
   "cell_type": "code",
   "execution_count": null,
   "metadata": {},
   "outputs": [],
   "source": [
    "plt.rcParams[\"figure.figsize\"] = (7,3)\n",
    "\n",
    "tmp=bc.tl.count_occurrence_subset(pdata, var1, count_variable=var2, return_percentage=True)\n",
    "tmp.transpose().plot.bar(stacked=True)\n",
    "plt.legend(bbox_to_anchor=(1.04,1), loc=\"upper left\")\n",
    "plt.tick_params(axis='x', labelsize=12)\n",
    "plt.tick_params(axis='y', labelsize=12)\n",
    "plt.savefig(figdir+'Barplots-'+var1+'_per_'+var2+'.pdf')\n",
    "plt.savefig(figdir+'Barplots-'+var1+'_per_'+var2+'.svg')\n",
    "#    ax.set_ylabel(ylabel='Perc '+mycell,fontsize=10)\n",
    "#    ax.set_xlabel(xlabel='Response ',fontsize=10)"
   ]
  },
  {
   "cell_type": "code",
   "execution_count": null,
   "metadata": {},
   "outputs": [],
   "source": [
    "var2='celltype4'\n",
    "var1='treatment_id'\n",
    "#var2='sample_id'\n",
    "\n",
    "\n",
    "plt.rcParams[\"figure.figsize\"] = (7,3)\n",
    "\n",
    "tmp=bc.tl.count_occurrence_subset(pdata, var1, count_variable=var2, return_percentage=True)\n",
    "tmp.transpose().plot.bar(stacked=True)\n",
    "plt.legend(bbox_to_anchor=(1.04,1), loc=\"upper left\")\n",
    "plt.tick_params(axis='x', labelsize=12)\n",
    "plt.tick_params(axis='y', labelsize=12)\n",
    "plt.savefig(figdir+'Barplots-'+var1+'_per_'+var2+'.pdf')\n",
    "plt.savefig(figdir+'Barplots-'+var1+'_per_'+var2+'.svg')\n",
    "#    ax.set_ylabel(ylabel='Perc '+mycell,fontsize=10)\n",
    "#    ax.set_xlabel(xlabel='Response ',fontsize=10)"
   ]
  },
  {
   "cell_type": "code",
   "execution_count": null,
   "metadata": {},
   "outputs": [],
   "source": [
    "var2='celltype2'\n",
    "var1='treatment_id'\n",
    "#var2='sample_id'\n",
    "\n",
    "\n",
    "plt.rcParams[\"figure.figsize\"] = (7,3)\n",
    "\n",
    "tmp=bc.tl.count_occurrence_subset(pdata, var1, count_variable=var2, return_percentage=True)\n",
    "tmp.transpose().plot.bar(stacked=True)\n",
    "plt.legend(bbox_to_anchor=(1.04,1), loc=\"upper left\")\n",
    "plt.tick_params(axis='x', labelsize=12)\n",
    "plt.tick_params(axis='y', labelsize=12)\n",
    "plt.savefig(figdir+'Barplots-'+var1+'_per_'+var2+'.pdf')\n",
    "plt.savefig(figdir+'Barplots-'+var1+'_per_'+var2+'.svg')\n",
    "#    ax.set_ylabel(ylabel='Perc '+mycell,fontsize=10)\n",
    "#    ax.set_xlabel(xlabel='Response ',fontsize=10)"
   ]
  },
  {
   "cell_type": "code",
   "execution_count": null,
   "metadata": {},
   "outputs": [],
   "source": [
    "plt.rcParams[\"figure.figsize\"] = plt.rcParamsDefault[\"figure.figsize\"]"
   ]
  },
  {
   "cell_type": "code",
   "execution_count": null,
   "metadata": {},
   "outputs": [],
   "source": [
    "scv.tl.score_genes_cell_cycle(pdata)"
   ]
  },
  {
   "cell_type": "code",
   "execution_count": null,
   "metadata": {},
   "outputs": [],
   "source": [
    "sc.pl.umap(pdata, color=['phase','S_score','G2M_score'],ncols=1,save='-phasev2-'+initialsubset+'.pdf')"
   ]
  },
  {
   "cell_type": "code",
   "execution_count": null,
   "metadata": {},
   "outputs": [],
   "source": [
    "sc.tl.embedding_density(pdata,  basis='umap',groupby='phase')"
   ]
  },
  {
   "cell_type": "code",
   "execution_count": null,
   "metadata": {},
   "outputs": [],
   "source": [
    "sc.pl.embedding_density(pdata,  basis='umap',key='umap_density_phase',fg_dotsize=40,bg_dotsize=40,ncols=3,\n",
    "                        save='-phase-'+initialsubset+'.pdf')\n"
   ]
  },
  {
   "cell_type": "code",
   "execution_count": null,
   "metadata": {},
   "outputs": [],
   "source": [
    "sc.tl.embedding_density(pdata,  basis='umap',groupby='treatment_id')"
   ]
  },
  {
   "cell_type": "code",
   "execution_count": null,
   "metadata": {},
   "outputs": [],
   "source": [
    "sc.pl.embedding_density(pdata,  basis='umap',key='umap_density_treatment_id',ncols=3,\n",
    "                        fg_dotsize=40,bg_dotsize=40 ,save='-treatment-'+initialsubset+'.pdf')\n",
    "    \n",
    "#scanpy.pl.embedding_density(adata, basis='umap', key=None, groupby=None, \n",
    "#group='all', color_map='YlOrRd', bg_dotsize=80, fg_dotsize=180, vmax=1, vmin=0, vcenter=None, norm=None, ncols=4, hspace=0.25, wspace=None, title=None, show=None, save=None, ax=None, return_fig=None, **kwargs)"
   ]
  },
  {
   "cell_type": "code",
   "execution_count": null,
   "metadata": {},
   "outputs": [],
   "source": [
    "tempcols=['orangered','orange','teal','indigo', 'purple','black']\n",
    "#tempcols=['black','black','black','black','black']"
   ]
  },
  {
   "cell_type": "code",
   "execution_count": null,
   "metadata": {},
   "outputs": [],
   "source": [
    "initialsubset"
   ]
  },
  {
   "cell_type": "code",
   "execution_count": null,
   "metadata": {},
   "outputs": [],
   "source": [
    "sc.settings.set_figure_params()"
   ]
  },
  {
   "cell_type": "code",
   "execution_count": null,
   "metadata": {},
   "outputs": [],
   "source": [
    "mytreats=list(set(pdata.obs['treatment_id']))\n",
    "i=0\n",
    "for treat in mytreats:\n",
    "    sc.pl.umap(pdata, groups=[treat],palette=[tempcols[i]],\n",
    "               color='treatment_id', save='-treatmentID-'+treat+'.'+initialsubset+'.pdf')\n",
    "    i=i+1"
   ]
  },
  {
   "cell_type": "code",
   "execution_count": null,
   "metadata": {},
   "outputs": [],
   "source": [
    "#cls=['5','6','14','12','3','4','17','16','14','12','0','15','10','8','9','13','2','1','11']"
   ]
  },
  {
   "cell_type": "code",
   "execution_count": null,
   "metadata": {},
   "outputs": [],
   "source": [
    "mytreats=list(set(pdata.obs['treatment_id']))\n",
    "i=0\n",
    "for treat in mytreats:\n",
    "    sc.pl.umap(pdata, groups=[treat],palette=[tempcols[i]],\n",
    "               color='treatment_id', save='-treatmentID-'+treat+'.selclusters.pdf')\n",
    "    i=i+1"
   ]
  },
  {
   "cell_type": "code",
   "execution_count": null,
   "metadata": {},
   "outputs": [],
   "source": [
    "mytreats=list(set(pdata.obs['treatment_id']))\n",
    "i=0\n",
    "for treat in mytreats:\n",
    "    sc.pl.umap(pdata, groups=[treat],palette=['dodgerblue'],\n",
    "               color='treatment_id', save='-treatmentID-'+treat+'.selclusters-singlecol.pdf')\n",
    "    i=i+1"
   ]
  },
  {
   "cell_type": "code",
   "execution_count": null,
   "metadata": {},
   "outputs": [],
   "source": [
    "goi=goinew=['Tnf', 'Il6', 'Ifna2',\n",
    "'Ifng', 'Il12b', 'Il12a', 'Ccl3', 'Ccl4',\n",
    "'Il10', 'Tgfb1', 'Csf1', 'Csf2', 'Gzmb',\n",
    "'Prf1', 'Il2', 'Ccl8', 'Cxcl9', 'Cxcl10',\n",
    "'Xcl1',\n",
    "'Ccl2', 'Cxcl13', 'Ccl5', 'Cxcl12',\n",
    "'Ccl4', 'Il4', 'Cxcl2', 'Il1b',  'Ccl19']\n",
    "\n"
   ]
  },
  {
   "cell_type": "code",
   "execution_count": null,
   "metadata": {},
   "outputs": [],
   "source": [
    "pdata.obs['sample_id']=pdata.obs['individual_id'].astype('str')+\"-\"+pdata.obs['treatment_id'].astype('str')\n",
    "adata.obs['sample_id']=adata.obs['individual_id'].astype('str')+\"-\"+adata.obs['treatment_id'].astype('str')"
   ]
  },
  {
   "cell_type": "markdown",
   "metadata": {},
   "source": [
    "#### Differential expression between the clusters"
   ]
  },
  {
   "cell_type": "markdown",
   "metadata": {},
   "source": [
    "### Plotting of cell type frequencies"
   ]
  },
  {
   "cell_type": "markdown",
   "metadata": {},
   "source": [
    "### Stratify per celltype1"
   ]
  },
  {
   "cell_type": "code",
   "execution_count": null,
   "metadata": {},
   "outputs": [],
   "source": [
    "subsetvar='individual_id'"
   ]
  },
  {
   "cell_type": "code",
   "execution_count": null,
   "metadata": {},
   "outputs": [],
   "source": [
    "### Plot the percentage of cell types per condition\n",
    "countvar='celltype1' ### this is the annotation level of choice\n",
    "fig=bc.pl.celllabel_quant_boxplot(pdata, count_variable = countvar, subset_variable = subsetvar, condition_identifier = condition, \n",
    "                                  plot_percentage = True,condition_order=None,figsize=(10,4))\n",
    "fig.savefig(results_folder_out+'Percentage-'+countvar+'-'+subsetvar+'-'+condition+'-'+initialsubset+'.pdf')"
   ]
  },
  {
   "cell_type": "code",
   "execution_count": null,
   "metadata": {},
   "outputs": [],
   "source": [
    "### Or get the numbers\n",
    "df=bc.tl.count_occurrence_subset_conditions(pdata, count_variable = countvar, subset_variable = subsetvar, condition_identifier = condition,  return_percentage = True)\n",
    "df"
   ]
  },
  {
   "cell_type": "code",
   "execution_count": null,
   "metadata": {},
   "outputs": [],
   "source": [
    "### Number cell types per condition\n",
    "fig=bc.pl.celllabel_quant_boxplot(pdata, count_variable = countvar, subset_variable = subsetvar, \n",
    "                                  condition_identifier = condition, plot_percentage = False,condition_order=None,figsize=(10,5))\n",
    "fig.savefig(results_folder_out+'Number-'+countvar+'-'+subsetvar+'-'+condition+'-'+initialsubset+'.pdf')"
   ]
  },
  {
   "cell_type": "code",
   "execution_count": null,
   "metadata": {},
   "outputs": [],
   "source": [
    "### Or get the numbers\n",
    "df=bc.tl.count_occurrence_subset_conditions(pdata, count_variable = countvar, subset_variable = subsetvar,\n",
    "                                            condition_identifier = condition,  return_percentage = False)\n",
    "df"
   ]
  },
  {
   "cell_type": "code",
   "execution_count": null,
   "metadata": {},
   "outputs": [],
   "source": [
    "results_folder_out+'Percentage-'+countvar+'-'+subsetvar+'-'+condition+'-'+initialsubset+'.pdf'"
   ]
  },
  {
   "cell_type": "markdown",
   "metadata": {},
   "source": [
    "### Stratify per celltype"
   ]
  },
  {
   "cell_type": "code",
   "execution_count": null,
   "metadata": {},
   "outputs": [],
   "source": [
    "### Plot the percentage of cell types per condition\n",
    "countvar='celltype4' ### this is the annotation level of choice\n",
    "fig=bc.pl.celllabel_quant_boxplot(pdata, count_variable = countvar, subset_variable = subsetvar, \n",
    "                                  condition_identifier = condition, plot_percentage = True,condition_order=None,figsize=(14,4))\n",
    "fig.savefig(results_folder_out+'Percentage-'+countvar+'-'+subsetvar+'-'+condition+'-'+initialsubset+'.pdf')\n"
   ]
  },
  {
   "cell_type": "code",
   "execution_count": null,
   "metadata": {},
   "outputs": [],
   "source": [
    "### Or get the numbers\n",
    "df=bc.tl.count_occurrence_subset_conditions(pdata, count_variable = countvar, subset_variable = subsetvar, condition_identifier = condition,  return_percentage = True)\n",
    "df\n"
   ]
  },
  {
   "cell_type": "code",
   "execution_count": null,
   "metadata": {},
   "outputs": [],
   "source": [
    "df.to_csv(results_folder_out+'Percentage-'+countvar+'-'+subsetvar+'-'+condition+'-'+initialsubset+'.tsv')"
   ]
  },
  {
   "cell_type": "code",
   "execution_count": null,
   "metadata": {},
   "outputs": [],
   "source": [
    "### Number cell types per condition\n",
    "fig=bc.pl.celllabel_quant_boxplot(pdata, count_variable = countvar, subset_variable = subsetvar, \n",
    "                                  condition_identifier = condition, plot_percentage = False,condition_order=None,figsize=(14,4))\n",
    "fig.savefig(results_folder_out+'Number-'+countvar+'-'+subsetvar+'-'+condition+'-'+initialsubset+'.pdf')\n"
   ]
  },
  {
   "cell_type": "code",
   "execution_count": null,
   "metadata": {},
   "outputs": [],
   "source": [
    "### Or get the numbers\n",
    "df=bc.tl.count_occurrence_subset_conditions(pdata, count_variable = countvar, subset_variable = subsetvar, condition_identifier = condition,  return_percentage = False)\n",
    "df\n"
   ]
  },
  {
   "cell_type": "code",
   "execution_count": null,
   "metadata": {},
   "outputs": [],
   "source": [
    "df.to_csv(results_folder_out+'Number-'+countvar+'-'+subsetvar+'-'+condition+'-'+initialsubset+'.tsv')"
   ]
  },
  {
   "cell_type": "markdown",
   "metadata": {},
   "source": [
    "Large differences in population frequencies across treatments. "
   ]
  },
  {
   "cell_type": "markdown",
   "metadata": {},
   "source": [
    "#### Stratify per leiden cluster "
   ]
  },
  {
   "cell_type": "code",
   "execution_count": null,
   "metadata": {},
   "outputs": [],
   "source": [
    "### Plot the percentage of cell types per condition\n",
    "countvar='leiden' ### this is the annotation level of choice\n",
    "fig=bc.pl.celllabel_quant_boxplot(pdata, count_variable = countvar, \n",
    "                                  subset_variable = subsetvar, condition_identifier = condition, \n",
    "                                  plot_percentage = True,condition_order=None,figsize=(14,4))\n",
    "fig.savefig(results_folder_out+'Percentage-'+countvar+'-'+subsetvar+'-'+condition+'-'+initialsubset+'.pdf')\n"
   ]
  },
  {
   "cell_type": "code",
   "execution_count": null,
   "metadata": {},
   "outputs": [],
   "source": [
    "### Or get the numbers\n",
    "df=bc.tl.count_occurrence_subset_conditions(pdata, count_variable = countvar, subset_variable = subsetvar, condition_identifier = condition,  return_percentage = True)\n",
    "df\n"
   ]
  },
  {
   "cell_type": "code",
   "execution_count": null,
   "metadata": {},
   "outputs": [],
   "source": [
    "\n",
    "df.to_csv(results_folder_out+'Percentage-'+countvar+'-'+subsetvar+'-'+condition+'-'+initialsubset+'.tsv')\n",
    "### Number cell types per condition\n",
    "fig=bc.pl.celllabel_quant_boxplot(pdata, count_variable = countvar, \n",
    "                                  subset_variable = subsetvar, condition_identifier = condition, \n",
    "                                  plot_percentage = False,condition_order=None,figsize=(14,5))\n",
    "fig.savefig(results_folder_out+'Number-'+countvar+'-'+subsetvar+'-'+condition+'-'+initialsubset+'.pdf')\n"
   ]
  },
  {
   "cell_type": "code",
   "execution_count": null,
   "metadata": {},
   "outputs": [],
   "source": [
    "### Or get the numbers\n",
    "df=bc.tl.count_occurrence_subset_conditions(pdata, count_variable = countvar, subset_variable = subsetvar, condition_identifier = condition,  return_percentage = False)\n",
    "df\n"
   ]
  },
  {
   "cell_type": "code",
   "execution_count": null,
   "metadata": {},
   "outputs": [],
   "source": [
    "df.to_csv(results_folder_out+'Number-'+countvar+'-'+subsetvar+'-'+condition+'-'+initialsubset+'.tsv')\n"
   ]
  },
  {
   "cell_type": "markdown",
   "metadata": {},
   "source": [
    "### Stratify per celltype3\n"
   ]
  },
  {
   "cell_type": "code",
   "execution_count": null,
   "metadata": {},
   "outputs": [],
   "source": [
    "### Plot the percentage of cell types per condition\n",
    "countvar='celltype3' ### this is the annotation level of choice\n",
    "fig=bc.pl.celllabel_quant_boxplot(pdata, count_variable = countvar, subset_variable = subsetvar, \n",
    "                                  condition_identifier = condition, plot_percentage = True,condition_order=None,figsize=(14,4))\n",
    "fig.savefig(results_folder_out+'Percentage-'+countvar+'-'+subsetvar+'-'+condition+'-'+initialsubset+'.pdf')\n"
   ]
  },
  {
   "cell_type": "code",
   "execution_count": null,
   "metadata": {},
   "outputs": [],
   "source": [
    "### Or get the numbers\n",
    "df=bc.tl.count_occurrence_subset_conditions(pdata, count_variable = countvar, subset_variable = subsetvar, condition_identifier = condition,  return_percentage = True)\n",
    "df\n"
   ]
  },
  {
   "cell_type": "code",
   "execution_count": null,
   "metadata": {},
   "outputs": [],
   "source": [
    "### Number cell types per condition\n",
    "fig=bc.pl.celllabel_quant_boxplot(pdata, count_variable = countvar, \n",
    "                                  subset_variable = subsetvar, condition_identifier = condition, \n",
    "                                  plot_percentage = False,condition_order=None,figsize=(14,5))\n",
    "fig.savefig(results_folder_out+'Number-'+countvar+'-'+subsetvar+'-'+condition+'-'+initialsubset+'.pdf')\n"
   ]
  },
  {
   "cell_type": "code",
   "execution_count": null,
   "metadata": {},
   "outputs": [],
   "source": [
    "### Or get the numbers\n",
    "df=bc.tl.count_occurrence_subset_conditions(pdata, count_variable = countvar, subset_variable = subsetvar, condition_identifier = condition,  return_percentage = False)\n",
    "df\n",
    "\n",
    "\n"
   ]
  },
  {
   "cell_type": "markdown",
   "metadata": {},
   "source": [
    "Large differences in population frequencies across treatements. "
   ]
  },
  {
   "cell_type": "markdown",
   "metadata": {},
   "source": [
    "### Stratify per celltype_simple"
   ]
  },
  {
   "cell_type": "code",
   "execution_count": null,
   "metadata": {},
   "outputs": [],
   "source": [
    "tmp=pdata.copy() #adata[adata.obs['celltype_simple']!='other'].copy()"
   ]
  },
  {
   "cell_type": "code",
   "execution_count": null,
   "metadata": {},
   "outputs": [],
   "source": [
    "### Plot the percentage of cell types per condition\n",
    "countvar='celltype_simple' ### this is the annotation level of choice\n",
    "fig=bc.pl.celllabel_quant_boxplot(tmp, count_variable = countvar, subset_variable = subsetvar, \n",
    "                                  condition_identifier = condition, plot_percentage = True,condition_order=None,figsize=(14,4))\n",
    "fig.savefig(results_folder_out+'Percentage-'+countvar+'-'+subsetvar+'-'+condition+'-'+initialsubset+'.pdf')\n"
   ]
  },
  {
   "cell_type": "code",
   "execution_count": null,
   "metadata": {},
   "outputs": [],
   "source": [
    "### Or get the numbers\n",
    "df=bc.tl.count_occurrence_subset_conditions(tmp, count_variable = countvar, subset_variable = subsetvar, condition_identifier = condition,  return_percentage = True)\n",
    "df\n"
   ]
  },
  {
   "cell_type": "code",
   "execution_count": null,
   "metadata": {},
   "outputs": [],
   "source": [
    "### Number cell types per condition\n",
    "fig=bc.pl.celllabel_quant_boxplot(tmp, count_variable = countvar, \n",
    "                                  subset_variable = subsetvar, condition_identifier = condition, plot_percentage = False,condition_order=None,figsize=(14,5))\n",
    "fig.savefig(results_folder_out+'Number-'+countvar+'-'+subsetvar+'-'+condition+'-'+initialsubset+'.pdf')\n"
   ]
  },
  {
   "cell_type": "code",
   "execution_count": null,
   "metadata": {
    "scrolled": true
   },
   "outputs": [],
   "source": [
    "### Or get the numbers\n",
    "df=bc.tl.count_occurrence_subset_conditions(pdata, count_variable = countvar, subset_variable = subsetvar, condition_identifier = condition,  return_percentage = False)\n",
    "df\n"
   ]
  },
  {
   "cell_type": "markdown",
   "metadata": {},
   "source": [
    "### Export proportions for statistical tests in R"
   ]
  },
  {
   "cell_type": "markdown",
   "metadata": {},
   "source": [
    "Cells were sorted, frequency comparisons not meaningful "
   ]
  },
  {
   "cell_type": "code",
   "execution_count": null,
   "metadata": {},
   "outputs": [],
   "source": [
    "### If needed create a CONDITION variable (if not there yet)\n",
    "#adata.obs['CONDITION']=adata.obs['time'].astype(str)+\"-\"+adata.obs['treatment_id'].astype(str)"
   ]
  },
  {
   "cell_type": "code",
   "execution_count": null,
   "metadata": {},
   "outputs": [],
   "source": [
    "mysubs=['celltype','celltype2','celltype3', 'celltype4']\n",
    "condi='treatment_id'\n",
    "for what in mysubs:\n",
    "    df1=bc.tl.count_occurrence_subset_conditions(pdata, subset_variable = subsetvar, count_variable = what, condition_identifier = condi,  return_percentage = True)\n",
    "    df1.to_csv(results_folder_out+'CelltypeFreq_'+condi+'_'+what+'_'+subsetvar+'.tsv')\n",
    "    df2=bc.tl.count_occurrence_subset_conditions(pdata, subset_variable = subsetvar, count_variable = what, condition_identifier = condi,  return_percentage = False)\n",
    "    df2.to_csv(results_folder_out+'CelltypeNrs_'+condi+'_'+what+'_'+subsetvar+'.tsv')"
   ]
  },
  {
   "cell_type": "markdown",
   "metadata": {},
   "source": [
    "### Additional, custom frequency plots"
   ]
  },
  {
   "cell_type": "code",
   "execution_count": null,
   "metadata": {},
   "outputs": [],
   "source": [
    "### Function to get p values (t test & wilcox)\n",
    "from scipy import stats\n",
    "import itertools\n",
    "def getPs(cellFreqs,myconditions,name1):\n",
    "    totest=list(itertools.combinations(myconditions, 2))\n",
    "    pwilc={}\n",
    "    pt={}\n",
    "    for pairs in totest:\n",
    "        pwilc[pairs[0]+'-'+pairs[1]]=stats.mannwhitneyu(list(cellFreqs.loc[cellFreqs[name1]==pairs[0],:].iloc[:,1]), \n",
    "                           list(cellFreqs.loc[cellFreqs[name1]==pairs[1],:].iloc[:,1]))[1]\n",
    "        pt[pairs[0]+'-'+pairs[1]]=stats.ttest_ind(list(cellFreqs.loc[cellFreqs[name1]==pairs[0],:].iloc[:,1]), \n",
    "                           list(cellFreqs.loc[cellFreqs[name1]==pairs[1],:].iloc[:,1]))[1]\n",
    "\n",
    "    myps=pd.DataFrame([pwilc,pt]).transpose()\n",
    "    myps.columns=['MannWhitney','T-test']\n",
    "    return(myps)\n"
   ]
  },
  {
   "cell_type": "code",
   "execution_count": null,
   "metadata": {},
   "outputs": [],
   "source": [
    "condi='treatment_id'\n",
    "#### One can also choose to plot cell types individually\n",
    "what='celltype2'\n",
    "myfreq=pd.read_csv(results_folder_out+'CelltypeFreq_'+condi+'_'+what+'_'+subsetvar+'.tsv',header=0)\n",
    "myfreq.index=myfreq.iloc[:,0]\n"
   ]
  },
  {
   "cell_type": "code",
   "execution_count": null,
   "metadata": {},
   "outputs": [],
   "source": [
    "myfreq"
   ]
  },
  {
   "cell_type": "code",
   "execution_count": null,
   "metadata": {},
   "outputs": [],
   "source": [
    "cond=[x.split(' ')[2] for x in list(myfreq.drop(columns=['Unnamed: 0']).columns)]\n",
    "patid=[x.split(' ')[1] for x in list(myfreq.drop(columns=['Unnamed: 0']).columns)]"
   ]
  },
  {
   "cell_type": "code",
   "execution_count": null,
   "metadata": {},
   "outputs": [],
   "source": [
    "toplot=myfreq.drop(columns=['Unnamed: 0']).transpose()\n",
    "toplot['CONDITION']=cond\n",
    "#toplot['tissue']=[x.split('_')[2] for x in list(toplot['CONDITION'])] ### this depends on your data\n",
    "#toplot['time']=[x.split('_')[1] for x in list(toplot['CONDITION'])] ### this depends on your data"
   ]
  },
  {
   "cell_type": "code",
   "execution_count": null,
   "metadata": {},
   "outputs": [],
   "source": [
    "toplot['CONDITION']"
   ]
  },
  {
   "cell_type": "code",
   "execution_count": null,
   "metadata": {},
   "outputs": [],
   "source": [
    "### Plotting color and plotting order \n",
    "color_dict = {'C_t0': 'black', 'T_1': 'red','T_2':'red', 'T_t3': 'red', 'T_t4': 'red', 'T_t5': 'red'}\n",
    "ploto=['C_t0','T_1','T_2','T_t3','T_t4','T_t5']\n",
    "\n",
    "#color_dict=treatcol.copy()"
   ]
  },
  {
   "cell_type": "code",
   "execution_count": null,
   "metadata": {},
   "outputs": [],
   "source": [
    "### Axis needs to be adjusted for cell type numbers\n",
    "fig, axes = plt.subplots(3, 4,figsize=(12,8), gridspec_kw={'wspace': 0.5, 'left': 0.25})\n",
    "plt.subplots_adjust(left=0.2, right=0.98, top=0.86, bottom=0.1)\n",
    "\n",
    "axes = axes.flatten()\n",
    "pvals={}\n",
    "pvals2={}\n",
    "pvals3={}\n",
    "pvals4={}\n",
    "pvals5={}\n",
    "i=0\n",
    "for mycell in list(myfreq.index):\n",
    "    ax=sns.boxplot(y=mycell,x='CONDITION',data=toplot,ax=axes[i],\n",
    "                   palette=color_dict,orient='v',order=ploto)\n",
    "    ax=sns.swarmplot(y=mycell,x='CONDITION',data=toplot,color='black',ax=axes[i],\n",
    "                    order=ploto)\n",
    "    ax.set_xticklabels(ax.get_xticklabels(), rotation=90,fontsize=10)\n",
    "    ax.tick_params(axis='y', labelsize=10)\n",
    "    ax.set_ylabel(ylabel='Perc '+mycell,fontsize=10)\n",
    "    ax.set_xlabel(xlabel='Response ',fontsize=10)\n",
    "    pvals[mycell]=getPs(toplot.loc[:,['CONDITION',mycell]],ploto,'CONDITION').loc['C_t0-T_1',:]\n",
    "    pvals2[mycell]=getPs(toplot.loc[:,['CONDITION',mycell]],ploto,'CONDITION').loc['C_t0-T_2',:]\n",
    "    pvals5[mycell]=getPs(toplot.loc[:,['CONDITION',mycell]],ploto,'CONDITION').loc['C_t0-T_t5',:]\n",
    "    pvals3[mycell]=getPs(toplot.loc[:,['CONDITION',mycell]],ploto,'CONDITION').loc['C_t0-T_t3',:]\n",
    "    pvals4[mycell]=getPs(toplot.loc[:,['CONDITION',mycell]],ploto,'CONDITION').loc['C_t0-T_t4',:]\n",
    "    i=i+1\n",
    "    \n",
    "fig.savefig(figdir+'Celltypefreq-Response-TILs'+what+'.pdf')\n",
    "fig.savefig(figdir+'Celltypefreq-Response-TILs'+what+'.svg')"
   ]
  },
  {
   "cell_type": "code",
   "execution_count": null,
   "metadata": {},
   "outputs": [],
   "source": [
    "toplot"
   ]
  },
  {
   "cell_type": "code",
   "execution_count": null,
   "metadata": {
    "scrolled": true
   },
   "outputs": [],
   "source": [
    "pd.DataFrame(pvals)"
   ]
  },
  {
   "cell_type": "code",
   "execution_count": null,
   "metadata": {},
   "outputs": [],
   "source": [
    "a1=list(pd.DataFrame(pvals).loc[:,pd.DataFrame(pvals).min(axis=0)<=0.05].columns)\n",
    "\n",
    "a2=list(pd.DataFrame(pvals2).loc[:,pd.DataFrame(pvals2).min(axis=0)<=0.05].columns)\n",
    "\n",
    "a3=list(pd.DataFrame(pvals3).loc[:,pd.DataFrame(pvals3).min(axis=0)<=0.05].columns)\n",
    "\n",
    "a4=list(pd.DataFrame(pvals4).loc[:,pd.DataFrame(pvals4).min(axis=0)<=0.05].columns)\n",
    "\n",
    "a5=list(pd.DataFrame(pvals5).loc[:,pd.DataFrame(pvals5).min(axis=0)<=0.05].columns)\n"
   ]
  },
  {
   "cell_type": "code",
   "execution_count": null,
   "metadata": {},
   "outputs": [],
   "source": [
    "set(a1+a2+a3+a4+a5)"
   ]
  },
  {
   "cell_type": "markdown",
   "metadata": {},
   "source": [
    "#### Celltype\n"
   ]
  },
  {
   "cell_type": "code",
   "execution_count": null,
   "metadata": {},
   "outputs": [],
   "source": [
    "#### One can also choose to plot cell types individually\n",
    "what='celltype4'\n",
    "myfreq=pd.read_csv(results_folder_out+'CelltypeFreq_'+condi+'_'+what+'_'+subsetvar+'.tsv',header=0)\n",
    "myfreq.index=myfreq.iloc[:,0]\n",
    "\n",
    "\n",
    "cond=[x.split(' ')[2] for x in list(myfreq.drop(columns=['Unnamed: 0']).columns)]\n",
    "patid=[x.split(' ')[1] for x in list(myfreq.drop(columns=['Unnamed: 0']).columns)]\n",
    "\n",
    "toplot=myfreq.drop(columns=['Unnamed: 0']).transpose()\n",
    "toplot['CONDITION']=cond\n",
    "#toplot['tissue']=[x.split('_')[2] for x in list(toplot['CONDITION'])] ### this depends on your data\n",
    "#toplot['time']=[x.split('_')[1] for x in list(toplot['CONDITION'])] ### this depends on your data\n",
    "\n",
    "### subset as above\n",
    "#toplot=toplot.loc[toplot['tissue']=='LN',:]\n",
    "### subset as above\n",
    "#toplot=toplot.loc[toplot['CONDITION']!='T_24_Tumor_C_24_Tumor',:]\n",
    "toplot['CONDITION']\n",
    "\n"
   ]
  },
  {
   "cell_type": "code",
   "execution_count": null,
   "metadata": {},
   "outputs": [],
   "source": [
    "\n",
    "\n",
    "\n",
    "### Axis needs to be adjusted for cell type numbers\n",
    "fig, axes = plt.subplots(5, 5,figsize=(14,10), gridspec_kw={'wspace': 0.5, 'left': 0.25})\n",
    "plt.subplots_adjust(left=0.2, right=0.98, top=0.86, bottom=0.1)\n",
    "\n",
    "axes = axes.flatten()\n",
    "pvals={}\n",
    "pvals2={}\n",
    "pvals3={}\n",
    "pvals4={}\n",
    "pvals5={}\n",
    "i=0\n",
    "for mycell in list(myfreq.index):\n",
    "    ax=sns.boxplot(y=mycell,x='CONDITION',data=toplot,ax=axes[i],\n",
    "                   palette=color_dict,orient='v',order=ploto)\n",
    "    ax=sns.swarmplot(y=mycell,x='CONDITION',data=toplot,color='black',ax=axes[i],\n",
    "                    order=ploto)\n",
    "    ax.set_xticklabels(ax.get_xticklabels(), rotation=90,fontsize=7)\n",
    "    ax.tick_params(axis='y', labelsize=7)\n",
    "    ax.set_ylabel(ylabel='Perc '+mycell,fontsize=7)\n",
    "    #ax.set_xlabel(xlabel='Response ',fontsize=6)\n",
    "    pvals[mycell]=getPs(toplot.loc[:,['CONDITION',mycell]],ploto,'CONDITION').loc['C_t0-T_1',:]\n",
    "    pvals2[mycell]=getPs(toplot.loc[:,['CONDITION',mycell]],ploto,'CONDITION').loc['C_t0-T_2',:]\n",
    "    pvals5[mycell]=getPs(toplot.loc[:,['CONDITION',mycell]],ploto,'CONDITION').loc['C_t0-T_t5',:]\n",
    "    pvals3[mycell]=getPs(toplot.loc[:,['CONDITION',mycell]],ploto,'CONDITION').loc['C_t0-T_t3',:]\n",
    "    pvals4[mycell]=getPs(toplot.loc[:,['CONDITION',mycell]],ploto,'CONDITION').loc['C_t0-T_t4',:]\n",
    "    i=i+1\n",
    "       \n",
    "fig.savefig(figdir+'Celltypefreq-Response-TILs'+what+'.pdf')\n",
    "fig.savefig(figdir+'Celltypefreq-Response-TILs'+what+'.svg')\n",
    "pd.DataFrame(pvals)"
   ]
  },
  {
   "cell_type": "code",
   "execution_count": null,
   "metadata": {},
   "outputs": [],
   "source": [
    "pd.DataFrame(pvals2)"
   ]
  },
  {
   "cell_type": "code",
   "execution_count": null,
   "metadata": {},
   "outputs": [],
   "source": [
    "a1=list(pd.DataFrame(pvals).loc[:,pd.DataFrame(pvals).min(axis=0)<=0.05].columns)\n",
    "a1"
   ]
  },
  {
   "cell_type": "code",
   "execution_count": null,
   "metadata": {},
   "outputs": [],
   "source": [
    "a2=list(pd.DataFrame(pvals2).loc[:,pd.DataFrame(pvals2).min(axis=0)<=0.05].columns)\n",
    "a2"
   ]
  },
  {
   "cell_type": "code",
   "execution_count": null,
   "metadata": {},
   "outputs": [],
   "source": [
    "a5=list(pd.DataFrame(pvals5).loc[:,pd.DataFrame(pvals5).min(axis=0)<=0.05].columns)\n",
    "a5"
   ]
  },
  {
   "cell_type": "code",
   "execution_count": null,
   "metadata": {},
   "outputs": [],
   "source": [
    "a3=list(pd.DataFrame(pvals3).loc[:,pd.DataFrame(pvals3).min(axis=0)<=0.05].columns)\n",
    "a3"
   ]
  },
  {
   "cell_type": "code",
   "execution_count": null,
   "metadata": {},
   "outputs": [],
   "source": [
    "a4=list(pd.DataFrame(pvals4).loc[:,pd.DataFrame(pvals4).min(axis=0)<=0.05].columns)\n",
    "a4"
   ]
  },
  {
   "cell_type": "code",
   "execution_count": null,
   "metadata": {
    "scrolled": true
   },
   "outputs": [],
   "source": [
    "toplotc=list(set(a1+a2+a3+a4+a5))\n",
    "toplotc"
   ]
  },
  {
   "cell_type": "code",
   "execution_count": null,
   "metadata": {
    "scrolled": true
   },
   "outputs": [],
   "source": [
    "#### One can also choose to plot cell types individually\n",
    "what='celltype4'\n",
    "myfreq=pd.read_csv(results_folder_out+'CelltypeFreq_'+condi+'_'+what+'_'+subsetvar+'.tsv',header=0)\n",
    "myfreq.index=myfreq.iloc[:,0]\n",
    "\n",
    "\n",
    "cond=[x.split(' ')[2] for x in list(myfreq.drop(columns=['Unnamed: 0']).columns)]\n",
    "patid=[x.split(' ')[1] for x in list(myfreq.drop(columns=['Unnamed: 0']).columns)]\n",
    "\n",
    "toplot=myfreq.drop(columns=['Unnamed: 0']).transpose()\n",
    "toplot['CONDITION']=cond\n",
    "\n",
    "### Axis needs to be adjusted for cell type numbers\n",
    "fig, axes = plt.subplots(3, 5,figsize=(14,6), gridspec_kw={'wspace': 0.5, 'left': 0.25})\n",
    "plt.subplots_adjust(left=0.2, right=0.98, top=0.86, bottom=0.1)\n",
    "\n",
    "axes = axes.flatten()\n",
    "pvals={}\n",
    "i=0\n",
    "for mycell in toplotc:\n",
    "    ax=sns.boxplot(y=mycell,x='CONDITION',data=toplot,ax=axes[i],\n",
    "                   palette=color_dict,orient='v',order=ploto)\n",
    "    ax=sns.swarmplot(y=mycell,x='CONDITION',data=toplot,color='black',ax=axes[i],\n",
    "                    order=ploto)\n",
    "    ax.set_xticklabels(ax.get_xticklabels(), rotation=90,fontsize=7)\n",
    "    ax.tick_params(axis='y', labelsize=7)\n",
    "    ax.set_ylabel(ylabel='Perc '+mycell,fontsize=7)\n",
    "    #ax.set_xlabel(xlabel='Response ',fontsize=6)\n",
    "    pvals[mycell]=getPs(toplot.loc[:,['CONDITION',mycell]],ploto,'CONDITION').loc['C_t0-T_1',:]\n",
    "    i=i+1\n",
    "       \n",
    "fig.savefig(figdir+'Celltypefreq-Response-TILs-significants_vsComb_vsVehicle'+what+'.pdf')\n",
    "fig.savefig(figdir+'Celltypefreq-Response-TILs-significants_vsComb_vsVehicle'+what+'.svg')\n",
    "\n",
    "pd.DataFrame(pvals)"
   ]
  },
  {
   "cell_type": "markdown",
   "metadata": {},
   "source": [
    "#### Leiden"
   ]
  },
  {
   "cell_type": "code",
   "execution_count": null,
   "metadata": {},
   "outputs": [],
   "source": [
    "\n",
    "#### One can also choose to plot cell types individually\n",
    "what='celltype3'\n",
    "myfreq=pd.read_csv(results_folder_out+'CelltypeFreq_'+condi+'_'+what+'_'+subsetvar+'.tsv',header=0)\n",
    "myfreq.index=myfreq.iloc[:,0]\n",
    "\n",
    "cond=[x.split(' ')[2] for x in list(myfreq.drop(columns=['Unnamed: 0']).columns)]\n",
    "patid=[x.split(' ')[1] for x in list(myfreq.drop(columns=['Unnamed: 0']).columns)]\n",
    "\n",
    "toplot=myfreq.drop(columns=['Unnamed: 0']).transpose()\n",
    "toplot['CONDITION']=cond\n",
    "\n",
    "### Axis needs to be adjusted for cell type numbers\n",
    "fig, axes = plt.subplots(4, 6,figsize=(14,9), gridspec_kw={'wspace': 0.5, 'left': 0.25})\n",
    "plt.subplots_adjust(left=0.2, right=0.98, top=0.86, bottom=0.1)\n",
    "\n",
    "axes = axes.flatten()\n",
    "pvals={}\n",
    "pvals2={}\n",
    "pvals3={}\n",
    "pvals4={}\n",
    "pvals5={}\n",
    "i=0\n",
    "for mycell in list(myfreq.index):\n",
    "    ax=sns.boxplot(y=mycell,x='CONDITION',data=toplot,ax=axes[i],\n",
    "                   palette=color_dict,orient='v',order=ploto)\n",
    "    ax=sns.swarmplot(y=mycell,x='CONDITION',data=toplot,color='black',ax=axes[i],\n",
    "                    order=ploto)\n",
    "    ax.set_xticklabels(ax.get_xticklabels(), rotation=90,fontsize=7)\n",
    "    ax.tick_params(axis='y', labelsize=7)\n",
    "    ax.set_ylabel(ylabel='Perc '+str(mycell),fontsize=7)\n",
    "    #ax.set_xlabel(xlabel='Response ',fontsize=6)\n",
    "    #ax.set_xlabel(xlabel='Response ',fontsize=6)\n",
    "    pvals[mycell]=getPs(toplot.loc[:,['CONDITION',mycell]],ploto,'CONDITION').loc['C_t0-T_1',:]\n",
    "    pvals2[mycell]=getPs(toplot.loc[:,['CONDITION',mycell]],ploto,'CONDITION').loc['C_t0-T_2',:]\n",
    "    pvals5[mycell]=getPs(toplot.loc[:,['CONDITION',mycell]],ploto,'CONDITION').loc['C_t0-T_t5',:]\n",
    "    pvals3[mycell]=getPs(toplot.loc[:,['CONDITION',mycell]],ploto,'CONDITION').loc['C_t0-T_t3',:]\n",
    "    pvals4[mycell]=getPs(toplot.loc[:,['CONDITION',mycell]],ploto,'CONDITION').loc['C_t0-T_t4',:]\n",
    "    i=i+1\n",
    "    \n",
    "fig.savefig(figdir+'Celltypefreq-Response-TILs'+what+'.pdf')\n",
    "fig.savefig(figdir+'Celltypefreq-Response-TILs'+what+'.svg')"
   ]
  },
  {
   "cell_type": "code",
   "execution_count": null,
   "metadata": {},
   "outputs": [],
   "source": [
    "pd.DataFrame(pvals)"
   ]
  },
  {
   "cell_type": "code",
   "execution_count": null,
   "metadata": {},
   "outputs": [],
   "source": [
    "a1=list(pd.DataFrame(pvals).loc[:,pd.DataFrame(pvals).min(axis=0)<=0.05].columns)\n",
    "a1\n",
    "\n",
    "a2=list(pd.DataFrame(pvals2).loc[:,pd.DataFrame(pvals2).min(axis=0)<=0.05].columns)\n",
    "a2\n",
    "\n",
    "a5=list(pd.DataFrame(pvals5).loc[:,pd.DataFrame(pvals5).min(axis=0)<=0.05].columns)\n",
    "a5\n",
    "\n",
    "a3=list(pd.DataFrame(pvals3).loc[:,pd.DataFrame(pvals3).min(axis=0)<=0.05].columns)\n",
    "a3\n",
    "\n",
    "a4=list(pd.DataFrame(pvals4).loc[:,pd.DataFrame(pvals4).min(axis=0)<=0.05].columns)\n",
    "a4\n",
    "\n",
    "toplotc=list(set(a1+a2+a3+a4+a5))\n",
    "toplotc"
   ]
  },
  {
   "cell_type": "code",
   "execution_count": null,
   "metadata": {},
   "outputs": [],
   "source": []
  },
  {
   "cell_type": "code",
   "execution_count": null,
   "metadata": {},
   "outputs": [],
   "source": [
    "#### One can also choose to plot cell types individually\n",
    "myfreq=pd.read_csv(results_folder_out+'CelltypeFreq_'+condi+'_'+what+'_'+subsetvar+'.tsv',header=0)\n",
    "myfreq.index=myfreq.iloc[:,0]\n",
    "\n",
    "\n",
    "cond=[x.split(' ')[2] for x in list(myfreq.drop(columns=['Unnamed: 0']).columns)]\n",
    "patid=[x.split(' ')[1] for x in list(myfreq.drop(columns=['Unnamed: 0']).columns)]\n",
    "\n",
    "toplot=myfreq.drop(columns=['Unnamed: 0']).transpose()\n",
    "toplot['CONDITION']=cond\n",
    "\n",
    "### Axis needs to be adjusted for cell type numbers\n",
    "fig, axes = plt.subplots(3, 6,figsize=(16,7), gridspec_kw={'wspace': 0.5, 'left': 0.25})\n",
    "plt.subplots_adjust(left=0.2, right=0.98, top=0.86, bottom=0.1)\n",
    "\n",
    "axes = axes.flatten()\n",
    "pvals={}\n",
    "i=0\n",
    "for mycell in toplotc:\n",
    "    ax=sns.boxplot(y=mycell,x='CONDITION',data=toplot,ax=axes[i],\n",
    "                   palette=color_dict,orient='v',order=ploto)\n",
    "    ax=sns.swarmplot(y=mycell,x='CONDITION',data=toplot,color='black',ax=axes[i],\n",
    "                    order=ploto)\n",
    "    ax.set_xticklabels(ax.get_xticklabels(), rotation=90,fontsize=7)\n",
    "    ax.tick_params(axis='y', labelsize=7)\n",
    "    ax.set_ylabel(ylabel='Perc '+str(mycell),fontsize=7)\n",
    "    #ax.set_xlabel(xlabel='Response ',fontsize=6)\n",
    "    i=i+1\n",
    "       \n",
    "fig.savefig(figdir+'Celltypefreq-Response-TILs-significants_vsComb_vsVehicle'+what+'.pdf')\n",
    "fig.savefig(figdir+'Celltypefreq-Response-TILs-significants_vsComb_vsVehicle'+what+'.svg')\n"
   ]
  },
  {
   "cell_type": "code",
   "execution_count": null,
   "metadata": {},
   "outputs": [],
   "source": [
    "! jupyter nbconvert --to html CellAbundance.ipynb"
   ]
  },
  {
   "cell_type": "code",
   "execution_count": null,
   "metadata": {},
   "outputs": [],
   "source": []
  }
 ],
 "metadata": {
  "kernelspec": {
   "display_name": "besca_py39_dev",
   "language": "python",
   "name": "besca_py39_dev"
  },
  "language_info": {
   "codemirror_mode": {
    "name": "ipython",
    "version": 3
   },
   "file_extension": ".py",
   "mimetype": "text/x-python",
   "name": "python",
   "nbconvert_exporter": "python",
   "pygments_lexer": "ipython3",
   "version": "3.9.12"
  }
 },
 "nbformat": 4,
 "nbformat_minor": 2
}
